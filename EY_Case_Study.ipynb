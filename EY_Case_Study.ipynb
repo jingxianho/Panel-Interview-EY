{
  "nbformat": 4,
  "nbformat_minor": 0,
  "metadata": {
    "colab": {
      "name": "EY Case Study.ipynb",
      "provenance": []
    },
    "kernelspec": {
      "name": "python3",
      "display_name": "Python 3"
    }
  },
  "cells": [
    {
      "cell_type": "code",
      "metadata": {
        "id": "6XODr7uFUL4Y"
      },
      "source": [
        "import pandas as pd\r\n",
        "import requests\r\n",
        "import scipy.stats as stats\r\n",
        "import matplotlib.pyplot as plt \r\n",
        "import numpy as np \r\n",
        "from sklearn.cluster import KMeans\r\n",
        "from sklearn.metrics import silhouette_samples, silhouette_score"
      ],
      "execution_count": 25,
      "outputs": []
    },
    {
      "cell_type": "code",
      "metadata": {
        "colab": {
          "base_uri": "https://localhost:8080/"
        },
        "id": "a0ta7ySlWvAz",
        "outputId": "57394c9d-4f47-4bb5-c09d-d29b92d7c3aa"
      },
      "source": [
        "df = pd.read_csv('/content/drive/Shareddrives/Master In Data Science/Personal Python Script/lpetrocelli-lendingclub-loan-data-2017-q-1/LoanStats_2017Q1 2.csv')"
      ],
      "execution_count": 30,
      "outputs": [
        {
          "output_type": "stream",
          "text": [
            "/usr/local/lib/python3.6/dist-packages/IPython/core/interactiveshell.py:2718: DtypeWarning: Columns (112) have mixed types.Specify dtype option on import or set low_memory=False.\n",
            "  interactivity=interactivity, compiler=compiler, result=result)\n"
          ],
          "name": "stderr"
        }
      ]
    },
    {
      "cell_type": "code",
      "metadata": {
        "id": "GPZO-0pUd7xo"
      },
      "source": [
        "df['id'] = df.index"
      ],
      "execution_count": 31,
      "outputs": []
    },
    {
      "cell_type": "code",
      "metadata": {
        "id": "l12-Xkfka4Bj"
      },
      "source": [
        "df_sel = df[['id','annual_inc','loan_amnt','total_rec_late_fee','delinq_2yrs','inq_last_12m','int_rate','all_util']]\r\n",
        "percent_missing = df_sel.isnull().sum() * 100 / len(df_sel)\r\n",
        "missing_value_df = pd.DataFrame({'column_name': df_sel.columns,\r\n",
        "                                 'percent_missing': percent_missing})"
      ],
      "execution_count": 32,
      "outputs": []
    },
    {
      "cell_type": "code",
      "metadata": {
        "colab": {
          "base_uri": "https://localhost:8080/",
          "height": 80
        },
        "id": "3tximslLa8OF",
        "outputId": "e2e0a667-8708-4e6c-813e-9bd93616e38b"
      },
      "source": [
        "missing_value_df.loc[missing_value_df['percent_missing'] > 0 ].sort_values('percent_missing', ascending=False)"
      ],
      "execution_count": null,
      "outputs": [
        {
          "output_type": "execute_result",
          "data": {
            "text/html": [
              "<div>\n",
              "<style scoped>\n",
              "    .dataframe tbody tr th:only-of-type {\n",
              "        vertical-align: middle;\n",
              "    }\n",
              "\n",
              "    .dataframe tbody tr th {\n",
              "        vertical-align: top;\n",
              "    }\n",
              "\n",
              "    .dataframe thead th {\n",
              "        text-align: right;\n",
              "    }\n",
              "</style>\n",
              "<table border=\"1\" class=\"dataframe\">\n",
              "  <thead>\n",
              "    <tr style=\"text-align: right;\">\n",
              "      <th></th>\n",
              "      <th>column_name</th>\n",
              "      <th>percent_missing</th>\n",
              "    </tr>\n",
              "  </thead>\n",
              "  <tbody>\n",
              "    <tr>\n",
              "      <th>all_util</th>\n",
              "      <td>all_util</td>\n",
              "      <td>0.0031</td>\n",
              "    </tr>\n",
              "  </tbody>\n",
              "</table>\n",
              "</div>"
            ],
            "text/plain": [
              "         column_name  percent_missing\n",
              "all_util    all_util           0.0031"
            ]
          },
          "metadata": {
            "tags": []
          },
          "execution_count": 5
        }
      ]
    },
    {
      "cell_type": "markdown",
      "metadata": {
        "id": "fBfaPfI5v8Hf"
      },
      "source": [
        "# Annual Income"
      ]
    },
    {
      "cell_type": "code",
      "metadata": {
        "colab": {
          "base_uri": "https://localhost:8080/",
          "height": 306
        },
        "id": "id5aHTfebRGP",
        "outputId": "788b7dd0-9b78-496b-b2c9-61c14865742e"
      },
      "source": [
        "import scipy.stats as stats\r\n",
        "df_sel['inc_log'] = np.log(df_sel['annual_inc']+0.1)\r\n",
        "df_sel.head()"
      ],
      "execution_count": 34,
      "outputs": [
        {
          "output_type": "stream",
          "text": [
            "/usr/local/lib/python3.6/dist-packages/ipykernel_launcher.py:2: SettingWithCopyWarning: \n",
            "A value is trying to be set on a copy of a slice from a DataFrame.\n",
            "Try using .loc[row_indexer,col_indexer] = value instead\n",
            "\n",
            "See the caveats in the documentation: https://pandas.pydata.org/pandas-docs/stable/user_guide/indexing.html#returning-a-view-versus-a-copy\n",
            "  \n"
          ],
          "name": "stderr"
        },
        {
          "output_type": "execute_result",
          "data": {
            "text/html": [
              "<div>\n",
              "<style scoped>\n",
              "    .dataframe tbody tr th:only-of-type {\n",
              "        vertical-align: middle;\n",
              "    }\n",
              "\n",
              "    .dataframe tbody tr th {\n",
              "        vertical-align: top;\n",
              "    }\n",
              "\n",
              "    .dataframe thead th {\n",
              "        text-align: right;\n",
              "    }\n",
              "</style>\n",
              "<table border=\"1\" class=\"dataframe\">\n",
              "  <thead>\n",
              "    <tr style=\"text-align: right;\">\n",
              "      <th></th>\n",
              "      <th>id</th>\n",
              "      <th>annual_inc</th>\n",
              "      <th>loan_amnt</th>\n",
              "      <th>total_rec_late_fee</th>\n",
              "      <th>delinq_2yrs</th>\n",
              "      <th>inq_last_12m</th>\n",
              "      <th>int_rate</th>\n",
              "      <th>all_util</th>\n",
              "      <th>inc_log</th>\n",
              "    </tr>\n",
              "  </thead>\n",
              "  <tbody>\n",
              "    <tr>\n",
              "      <th>0</th>\n",
              "      <td>0</td>\n",
              "      <td>120000.0</td>\n",
              "      <td>3600</td>\n",
              "      <td>0.0</td>\n",
              "      <td>0</td>\n",
              "      <td>4</td>\n",
              "      <td>7.49%</td>\n",
              "      <td>39.0</td>\n",
              "      <td>11.695248</td>\n",
              "    </tr>\n",
              "    <tr>\n",
              "      <th>1</th>\n",
              "      <td>1</td>\n",
              "      <td>125000.0</td>\n",
              "      <td>15000</td>\n",
              "      <td>0.0</td>\n",
              "      <td>0</td>\n",
              "      <td>0</td>\n",
              "      <td>14.99%</td>\n",
              "      <td>69.0</td>\n",
              "      <td>11.736070</td>\n",
              "    </tr>\n",
              "    <tr>\n",
              "      <th>2</th>\n",
              "      <td>2</td>\n",
              "      <td>50000.0</td>\n",
              "      <td>8400</td>\n",
              "      <td>0.0</td>\n",
              "      <td>0</td>\n",
              "      <td>7</td>\n",
              "      <td>11.39%</td>\n",
              "      <td>65.0</td>\n",
              "      <td>10.819780</td>\n",
              "    </tr>\n",
              "    <tr>\n",
              "      <th>3</th>\n",
              "      <td>3</td>\n",
              "      <td>50000.0</td>\n",
              "      <td>4000</td>\n",
              "      <td>0.0</td>\n",
              "      <td>1</td>\n",
              "      <td>1</td>\n",
              "      <td>10.49%</td>\n",
              "      <td>56.0</td>\n",
              "      <td>10.819780</td>\n",
              "    </tr>\n",
              "    <tr>\n",
              "      <th>4</th>\n",
              "      <td>4</td>\n",
              "      <td>125000.0</td>\n",
              "      <td>6000</td>\n",
              "      <td>0.0</td>\n",
              "      <td>0</td>\n",
              "      <td>1</td>\n",
              "      <td>7.24%</td>\n",
              "      <td>83.0</td>\n",
              "      <td>11.736070</td>\n",
              "    </tr>\n",
              "  </tbody>\n",
              "</table>\n",
              "</div>"
            ],
            "text/plain": [
              "   id  annual_inc  loan_amnt  ...  int_rate  all_util    inc_log\n",
              "0   0    120000.0       3600  ...     7.49%      39.0  11.695248\n",
              "1   1    125000.0      15000  ...    14.99%      69.0  11.736070\n",
              "2   2     50000.0       8400  ...    11.39%      65.0  10.819780\n",
              "3   3     50000.0       4000  ...    10.49%      56.0  10.819780\n",
              "4   4    125000.0       6000  ...     7.24%      83.0  11.736070\n",
              "\n",
              "[5 rows x 9 columns]"
            ]
          },
          "metadata": {
            "tags": []
          },
          "execution_count": 34
        }
      ]
    },
    {
      "cell_type": "code",
      "metadata": {
        "colab": {
          "base_uri": "https://localhost:8080/",
          "height": 296
        },
        "id": "r3reFvpgbXNQ",
        "outputId": "767fad09-f378-4cf3-f958-a09d8817f298"
      },
      "source": [
        "from sklearn.cluster import KMeans\r\n",
        "\r\n",
        "sse = []\r\n",
        "k_rng = range(1,15)\r\n",
        "for k in k_rng:\r\n",
        "    km = KMeans(n_clusters=k)\r\n",
        "    km.fit(df_sel[['inc_log']])\r\n",
        "    sse.append(km.inertia_)\r\n",
        "\r\n",
        "plt.xlabel('K')\r\n",
        "plt.ylabel('Sum of squared error')\r\n",
        "plt.plot(k_rng,sse)  "
      ],
      "execution_count": null,
      "outputs": [
        {
          "output_type": "execute_result",
          "data": {
            "text/plain": [
              "[<matplotlib.lines.Line2D at 0x7fecfc5359b0>]"
            ]
          },
          "metadata": {
            "tags": []
          },
          "execution_count": 7
        },
        {
          "output_type": "display_data",
          "data": {
            "image/png": "[encoded data removed]",
            "text/plain": [
              "<Figure size 432x288 with 1 Axes>"
            ]
          },
          "metadata": {
            "tags": [],
            "needs_background": "light"
          }
        }
      ]
    },
    {
      "cell_type": "code",
      "metadata": {
        "colab": {
          "base_uri": "https://localhost:8080/"
        },
        "id": "28hKgJ2fiIDo",
        "outputId": "a56415c1-9407-476a-db22-c1d38122ba22"
      },
      "source": [
        "km = KMeans(n_clusters=4)\r\n",
        "y_predicted = km.fit_predict(df_sel[['inc_log']])\r\n",
        "\r\n",
        "df_sel['inc_cluster'] = y_predicted\r\n"
      ],
      "execution_count": 50,
      "outputs": [
        {
          "output_type": "stream",
          "text": [
            "/usr/local/lib/python3.6/dist-packages/ipykernel_launcher.py:4: SettingWithCopyWarning: \n",
            "A value is trying to be set on a copy of a slice from a DataFrame.\n",
            "Try using .loc[row_indexer,col_indexer] = value instead\n",
            "\n",
            "See the caveats in the documentation: https://pandas.pydata.org/pandas-docs/stable/user_guide/indexing.html#returning-a-view-versus-a-copy\n",
            "  after removing the cwd from sys.path.\n"
          ],
          "name": "stderr"
        }
      ]
    },
    {
      "cell_type": "code",
      "metadata": {
        "colab": {
          "base_uri": "https://localhost:8080/"
        },
        "id": "VKHMADYHijyi",
        "outputId": "0350b264-5d2a-4fc9-fb20-ca1317c5d462"
      },
      "source": [
        "for i in range (0,4):\r\n",
        "  print('Cluster ' + str(i) + ': ' + str(np.median(df_sel['annual_inc'].loc[df_sel['inc_cluster'] == i])) )"
      ],
      "execution_count": 51,
      "outputs": [
        {
          "output_type": "stream",
          "text": [
            "Cluster 0: 135000.0\n",
            "Cluster 1: 40000.0\n",
            "Cluster 2: 0.0\n",
            "Cluster 3: 73000.0\n"
          ],
          "name": "stdout"
        }
      ]
    },
    {
      "cell_type": "code",
      "metadata": {
        "id": "3yspcfZ2i8DP"
      },
      "source": [
        "df_sel.loc[df_sel['inc_cluster'] == 2, 'inc_score'] = 1\r\n",
        "df_sel.loc[df_sel['inc_cluster'] == 1, 'inc_score'] = 2\r\n",
        "df_sel.loc[df_sel['inc_cluster'] == 3, 'inc_score'] = 3\r\n",
        "df_sel.loc[df_sel['inc_cluster'] == 0, 'inc_score'] = 4\r\n",
        "\r\n"
      ],
      "execution_count": null,
      "outputs": []
    },
    {
      "cell_type": "code",
      "metadata": {
        "colab": {
          "base_uri": "https://localhost:8080/"
        },
        "id": "hzSvzgC-kWIc",
        "outputId": "236f1916-4aa2-444c-9edc-f130a18ea9ca"
      },
      "source": [
        "df_sel.groupby(['inc_score'])['id'].count()"
      ],
      "execution_count": 54,
      "outputs": [
        {
          "output_type": "execute_result",
          "data": {
            "text/plain": [
              "inc_score\n",
              "1.0       33\n",
              "2.0    29723\n",
              "3.0    45996\n",
              "4.0    21027\n",
              "Name: id, dtype: int64"
            ]
          },
          "metadata": {
            "tags": []
          },
          "execution_count": 54
        }
      ]
    },
    {
      "cell_type": "code",
      "metadata": {
        "colab": {
          "base_uri": "https://localhost:8080/"
        },
        "id": "_rJmEdRrLmUN",
        "outputId": "4ccb9564-6a68-4db6-fe4b-a697fe38ed5d"
      },
      "source": [
        "inc_log = df_sel[['inc_log']]\r\n",
        "range_n_clusters = [2, 3, 4, 5, 6]\r\n",
        "\r\n",
        "for n_clusters in range_n_clusters:\r\n",
        "    # Initialize the clusterer with n_clusters value and a random generator\r\n",
        "    # seed of 10 for reproducibility.\r\n",
        "    clusterer = KMeans(n_clusters=n_clusters, random_state=10)\r\n",
        "    cluster_labels = clusterer.fit_predict(inc_log)\r\n",
        "\r\n",
        "    # The silhouette_score gives the average value for all the samples.\r\n",
        "    # This gives a perspective into the density and separation of the formed\r\n",
        "    # clusters\r\n",
        "    silhouette_avg = silhouette_score(inc_log, cluster_labels)\r\n",
        "    print(\"For n_clusters =\", n_clusters,\r\n",
        "          \"The average silhouette_score is :\", silhouette_avg)"
      ],
      "execution_count": 29,
      "outputs": [
        {
          "output_type": "stream",
          "text": [
            "For n_clusters = 2 The average silhouette_score is : 0.5380752147527527\n",
            "For n_clusters = 3 The average silhouette_score is : 0.5149541889873751\n",
            "For n_clusters = 4 The average silhouette_score is : 0.522719289370218\n",
            "For n_clusters = 5 The average silhouette_score is : 0.5192425189058957\n",
            "For n_clusters = 6 The average silhouette_score is : 0.5217407235070831\n"
          ],
          "name": "stdout"
        }
      ]
    },
    {
      "cell_type": "markdown",
      "metadata": {
        "id": "MNmb8Y34wOMt"
      },
      "source": [
        "# Deling"
      ]
    },
    {
      "cell_type": "code",
      "metadata": {
        "colab": {
          "base_uri": "https://localhost:8080/",
          "height": 306
        },
        "id": "5tfUQI9lkf0a",
        "outputId": "d9f6fd54-d81d-4d79-c14e-9efa2850782c"
      },
      "source": [
        "df_sel['deling_log'] = np.log(df_sel['delinq_2yrs']+0.1)\r\n",
        "df_sel.head()"
      ],
      "execution_count": 36,
      "outputs": [
        {
          "output_type": "stream",
          "text": [
            "/usr/local/lib/python3.6/dist-packages/ipykernel_launcher.py:1: SettingWithCopyWarning: \n",
            "A value is trying to be set on a copy of a slice from a DataFrame.\n",
            "Try using .loc[row_indexer,col_indexer] = value instead\n",
            "\n",
            "See the caveats in the documentation: https://pandas.pydata.org/pandas-docs/stable/user_guide/indexing.html#returning-a-view-versus-a-copy\n",
            "  \"\"\"Entry point for launching an IPython kernel.\n"
          ],
          "name": "stderr"
        },
        {
          "output_type": "execute_result",
          "data": {
            "text/html": [
              "<div>\n",
              "<style scoped>\n",
              "    .dataframe tbody tr th:only-of-type {\n",
              "        vertical-align: middle;\n",
              "    }\n",
              "\n",
              "    .dataframe tbody tr th {\n",
              "        vertical-align: top;\n",
              "    }\n",
              "\n",
              "    .dataframe thead th {\n",
              "        text-align: right;\n",
              "    }\n",
              "</style>\n",
              "<table border=\"1\" class=\"dataframe\">\n",
              "  <thead>\n",
              "    <tr style=\"text-align: right;\">\n",
              "      <th></th>\n",
              "      <th>id</th>\n",
              "      <th>annual_inc</th>\n",
              "      <th>loan_amnt</th>\n",
              "      <th>total_rec_late_fee</th>\n",
              "      <th>delinq_2yrs</th>\n",
              "      <th>inq_last_12m</th>\n",
              "      <th>int_rate</th>\n",
              "      <th>all_util</th>\n",
              "      <th>inc_log</th>\n",
              "      <th>deling_log</th>\n",
              "    </tr>\n",
              "  </thead>\n",
              "  <tbody>\n",
              "    <tr>\n",
              "      <th>0</th>\n",
              "      <td>0</td>\n",
              "      <td>120000.0</td>\n",
              "      <td>3600</td>\n",
              "      <td>0.0</td>\n",
              "      <td>0</td>\n",
              "      <td>4</td>\n",
              "      <td>7.49%</td>\n",
              "      <td>39.0</td>\n",
              "      <td>11.695248</td>\n",
              "      <td>-2.302585</td>\n",
              "    </tr>\n",
              "    <tr>\n",
              "      <th>1</th>\n",
              "      <td>1</td>\n",
              "      <td>125000.0</td>\n",
              "      <td>15000</td>\n",
              "      <td>0.0</td>\n",
              "      <td>0</td>\n",
              "      <td>0</td>\n",
              "      <td>14.99%</td>\n",
              "      <td>69.0</td>\n",
              "      <td>11.736070</td>\n",
              "      <td>-2.302585</td>\n",
              "    </tr>\n",
              "    <tr>\n",
              "      <th>2</th>\n",
              "      <td>2</td>\n",
              "      <td>50000.0</td>\n",
              "      <td>8400</td>\n",
              "      <td>0.0</td>\n",
              "      <td>0</td>\n",
              "      <td>7</td>\n",
              "      <td>11.39%</td>\n",
              "      <td>65.0</td>\n",
              "      <td>10.819780</td>\n",
              "      <td>-2.302585</td>\n",
              "    </tr>\n",
              "    <tr>\n",
              "      <th>3</th>\n",
              "      <td>3</td>\n",
              "      <td>50000.0</td>\n",
              "      <td>4000</td>\n",
              "      <td>0.0</td>\n",
              "      <td>1</td>\n",
              "      <td>1</td>\n",
              "      <td>10.49%</td>\n",
              "      <td>56.0</td>\n",
              "      <td>10.819780</td>\n",
              "      <td>0.095310</td>\n",
              "    </tr>\n",
              "    <tr>\n",
              "      <th>4</th>\n",
              "      <td>4</td>\n",
              "      <td>125000.0</td>\n",
              "      <td>6000</td>\n",
              "      <td>0.0</td>\n",
              "      <td>0</td>\n",
              "      <td>1</td>\n",
              "      <td>7.24%</td>\n",
              "      <td>83.0</td>\n",
              "      <td>11.736070</td>\n",
              "      <td>-2.302585</td>\n",
              "    </tr>\n",
              "  </tbody>\n",
              "</table>\n",
              "</div>"
            ],
            "text/plain": [
              "   id  annual_inc  loan_amnt  ...  all_util    inc_log  deling_log\n",
              "0   0    120000.0       3600  ...      39.0  11.695248   -2.302585\n",
              "1   1    125000.0      15000  ...      69.0  11.736070   -2.302585\n",
              "2   2     50000.0       8400  ...      65.0  10.819780   -2.302585\n",
              "3   3     50000.0       4000  ...      56.0  10.819780    0.095310\n",
              "4   4    125000.0       6000  ...      83.0  11.736070   -2.302585\n",
              "\n",
              "[5 rows x 10 columns]"
            ]
          },
          "metadata": {
            "tags": []
          },
          "execution_count": 36
        }
      ]
    },
    {
      "cell_type": "code",
      "metadata": {
        "colab": {
          "base_uri": "https://localhost:8080/",
          "height": 296
        },
        "id": "3NfHol2yxZNg",
        "outputId": "aa7610bd-115e-4c3a-c193-d1ee736e95d8"
      },
      "source": [
        "from sklearn.cluster import KMeans\r\n",
        "\r\n",
        "sse = []\r\n",
        "k_rng = range(1,15)\r\n",
        "for k in k_rng:\r\n",
        "    km = KMeans(n_clusters=k)\r\n",
        "    km.fit(df_sel[['deling_log']])\r\n",
        "    sse.append(km.inertia_)\r\n",
        "\r\n",
        "plt.xlabel('K')\r\n",
        "plt.ylabel('Sum of squared error')\r\n",
        "plt.plot(k_rng,sse)  "
      ],
      "execution_count": null,
      "outputs": [
        {
          "output_type": "execute_result",
          "data": {
            "text/plain": [
              "[<matplotlib.lines.Line2D at 0x7fecfc052898>]"
            ]
          },
          "metadata": {
            "tags": []
          },
          "execution_count": 15
        },
        {
          "output_type": "display_data",
          "data": {
            "image/png": "[encoded data removed]",
            "text/plain": [
              "<Figure size 432x288 with 1 Axes>"
            ]
          },
          "metadata": {
            "tags": [],
            "needs_background": "light"
          }
        }
      ]
    },
    {
      "cell_type": "code",
      "metadata": {
        "id": "RmzEi8MSyCtF"
      },
      "source": [
        "km = KMeans(n_clusters=4)\r\n",
        "y_predicted = km.fit_predict(df_sel[['deling_log']])\r\n",
        "\r\n",
        "df_sel['deling_cluster'] = y_predicted\r\n"
      ],
      "execution_count": null,
      "outputs": []
    },
    {
      "cell_type": "code",
      "metadata": {
        "colab": {
          "base_uri": "https://localhost:8080/"
        },
        "id": "BdgdmQhSyW_-",
        "outputId": "c1482510-4989-4c1b-c640-0a7fbff0e003"
      },
      "source": [
        "for i in range (0,4):\r\n",
        "  print('Cluster ' + str(i) + ': ' + str(np.median(df_sel['delinq_2yrs'].loc[df_sel['deling_cluster'] == i])) )"
      ],
      "execution_count": 47,
      "outputs": [
        {
          "output_type": "stream",
          "text": [
            "Cluster 0: 0.0\n",
            "Cluster 1: 1.0\n",
            "Cluster 2: 5.0\n",
            "Cluster 3: 2.0\n"
          ],
          "name": "stdout"
        }
      ]
    },
    {
      "cell_type": "code",
      "metadata": {
        "id": "E6004pybyfJ1"
      },
      "source": [
        "df_sel.loc[df_sel['deling_cluster'] == 2, 'deling_score'] = 1\r\n",
        "df_sel.loc[df_sel['deling_cluster'] == 3, 'deling_score'] = 2\r\n",
        "df_sel.loc[df_sel['deling_cluster'] == 1, 'deling_score'] = 3\r\n",
        "df_sel.loc[df_sel['deling_cluster'] == 0, 'deling_score'] = 4\r\n"
      ],
      "execution_count": null,
      "outputs": []
    },
    {
      "cell_type": "code",
      "metadata": {
        "colab": {
          "base_uri": "https://localhost:8080/"
        },
        "id": "Z0AO41QbzNNl",
        "outputId": "d31997a8-777a-47ad-d443-5f2cec23543f"
      },
      "source": [
        "df_sel.groupby(['deling_score'])['id'].count()"
      ],
      "execution_count": 49,
      "outputs": [
        {
          "output_type": "execute_result",
          "data": {
            "text/plain": [
              "deling_score\n",
              "1.0     1538\n",
              "2.0     5383\n",
              "3.0    13217\n",
              "4.0    76641\n",
              "Name: id, dtype: int64"
            ]
          },
          "metadata": {
            "tags": []
          },
          "execution_count": 49
        }
      ]
    },
    {
      "cell_type": "code",
      "metadata": {
        "colab": {
          "base_uri": "https://localhost:8080/"
        },
        "id": "wggpqHbnYgc7",
        "outputId": "76573afb-c88a-4525-bf2f-7369bd70154a"
      },
      "source": [
        "deling_log = df_sel[['deling_log']]\r\n",
        "range_n_clusters = [2, 3, 4, 5, 6]\r\n",
        "\r\n",
        "for n_clusters in range_n_clusters:\r\n",
        "    # Initialize the clusterer with n_clusters value and a random generator\r\n",
        "    # seed of 10 for reproducibility.\r\n",
        "    clusterer = KMeans(n_clusters=n_clusters, random_state=10)\r\n",
        "    cluster_labels = clusterer.fit_predict(deling_log)\r\n",
        "\r\n",
        "    # The silhouette_score gives the average value for all the samples.\r\n",
        "    # This gives a perspective into the density and separation of the formed\r\n",
        "    # clusters\r\n",
        "    silhouette_avg = silhouette_score(deling_log, cluster_labels)\r\n",
        "    print(\"For n_clusters =\", n_clusters,\r\n",
        "          \"The average silhouette_score is :\", silhouette_avg)"
      ],
      "execution_count": 38,
      "outputs": [
        {
          "output_type": "stream",
          "text": [
            "For n_clusters = 2 The average silhouette_score is : 0.9663010087578521\n",
            "For n_clusters = 3 The average silhouette_score is : 0.9701166989172275\n",
            "For n_clusters = 4 The average silhouette_score is : 0.979633039646386\n",
            "For n_clusters = 5 The average silhouette_score is : 0.9895882575078391\n",
            "For n_clusters = 6 The average silhouette_score is : 0.994066957161959\n"
          ],
          "name": "stdout"
        }
      ]
    },
    {
      "cell_type": "markdown",
      "metadata": {
        "id": "zxrs12QT1O0C"
      },
      "source": [
        "# Credit Limit Utilization Rate"
      ]
    },
    {
      "cell_type": "code",
      "metadata": {
        "colab": {
          "base_uri": "https://localhost:8080/",
          "height": 391
        },
        "id": "L-8Xr7vHzVmK",
        "outputId": "3c60eb79-5af5-4907-824f-61dd5a32f523"
      },
      "source": [
        "df_sel['all_util'].fillna(df_sel['all_util'].median(), inplace=True)\r\n",
        "df_sel['util_log'] = np.log(df_sel['all_util']+0.1)\r\n",
        "df_sel.head()"
      ],
      "execution_count": 39,
      "outputs": [
        {
          "output_type": "stream",
          "text": [
            "/usr/local/lib/python3.6/dist-packages/pandas/core/series.py:4536: SettingWithCopyWarning: \n",
            "A value is trying to be set on a copy of a slice from a DataFrame\n",
            "\n",
            "See the caveats in the documentation: https://pandas.pydata.org/pandas-docs/stable/user_guide/indexing.html#returning-a-view-versus-a-copy\n",
            "  downcast=downcast,\n",
            "/usr/local/lib/python3.6/dist-packages/ipykernel_launcher.py:2: SettingWithCopyWarning: \n",
            "A value is trying to be set on a copy of a slice from a DataFrame.\n",
            "Try using .loc[row_indexer,col_indexer] = value instead\n",
            "\n",
            "See the caveats in the documentation: https://pandas.pydata.org/pandas-docs/stable/user_guide/indexing.html#returning-a-view-versus-a-copy\n",
            "  \n"
          ],
          "name": "stderr"
        },
        {
          "output_type": "execute_result",
          "data": {
            "text/html": [
              "<div>\n",
              "<style scoped>\n",
              "    .dataframe tbody tr th:only-of-type {\n",
              "        vertical-align: middle;\n",
              "    }\n",
              "\n",
              "    .dataframe tbody tr th {\n",
              "        vertical-align: top;\n",
              "    }\n",
              "\n",
              "    .dataframe thead th {\n",
              "        text-align: right;\n",
              "    }\n",
              "</style>\n",
              "<table border=\"1\" class=\"dataframe\">\n",
              "  <thead>\n",
              "    <tr style=\"text-align: right;\">\n",
              "      <th></th>\n",
              "      <th>id</th>\n",
              "      <th>annual_inc</th>\n",
              "      <th>loan_amnt</th>\n",
              "      <th>total_rec_late_fee</th>\n",
              "      <th>delinq_2yrs</th>\n",
              "      <th>inq_last_12m</th>\n",
              "      <th>int_rate</th>\n",
              "      <th>all_util</th>\n",
              "      <th>inc_log</th>\n",
              "      <th>deling_log</th>\n",
              "      <th>util_log</th>\n",
              "    </tr>\n",
              "  </thead>\n",
              "  <tbody>\n",
              "    <tr>\n",
              "      <th>0</th>\n",
              "      <td>0</td>\n",
              "      <td>120000.0</td>\n",
              "      <td>3600</td>\n",
              "      <td>0.0</td>\n",
              "      <td>0</td>\n",
              "      <td>4</td>\n",
              "      <td>7.49%</td>\n",
              "      <td>39.0</td>\n",
              "      <td>11.695248</td>\n",
              "      <td>-2.302585</td>\n",
              "      <td>3.666122</td>\n",
              "    </tr>\n",
              "    <tr>\n",
              "      <th>1</th>\n",
              "      <td>1</td>\n",
              "      <td>125000.0</td>\n",
              "      <td>15000</td>\n",
              "      <td>0.0</td>\n",
              "      <td>0</td>\n",
              "      <td>0</td>\n",
              "      <td>14.99%</td>\n",
              "      <td>69.0</td>\n",
              "      <td>11.736070</td>\n",
              "      <td>-2.302585</td>\n",
              "      <td>4.235555</td>\n",
              "    </tr>\n",
              "    <tr>\n",
              "      <th>2</th>\n",
              "      <td>2</td>\n",
              "      <td>50000.0</td>\n",
              "      <td>8400</td>\n",
              "      <td>0.0</td>\n",
              "      <td>0</td>\n",
              "      <td>7</td>\n",
              "      <td>11.39%</td>\n",
              "      <td>65.0</td>\n",
              "      <td>10.819780</td>\n",
              "      <td>-2.302585</td>\n",
              "      <td>4.175925</td>\n",
              "    </tr>\n",
              "    <tr>\n",
              "      <th>3</th>\n",
              "      <td>3</td>\n",
              "      <td>50000.0</td>\n",
              "      <td>4000</td>\n",
              "      <td>0.0</td>\n",
              "      <td>1</td>\n",
              "      <td>1</td>\n",
              "      <td>10.49%</td>\n",
              "      <td>56.0</td>\n",
              "      <td>10.819780</td>\n",
              "      <td>0.095310</td>\n",
              "      <td>4.027136</td>\n",
              "    </tr>\n",
              "    <tr>\n",
              "      <th>4</th>\n",
              "      <td>4</td>\n",
              "      <td>125000.0</td>\n",
              "      <td>6000</td>\n",
              "      <td>0.0</td>\n",
              "      <td>0</td>\n",
              "      <td>1</td>\n",
              "      <td>7.24%</td>\n",
              "      <td>83.0</td>\n",
              "      <td>11.736070</td>\n",
              "      <td>-2.302585</td>\n",
              "      <td>4.420045</td>\n",
              "    </tr>\n",
              "  </tbody>\n",
              "</table>\n",
              "</div>"
            ],
            "text/plain": [
              "   id  annual_inc  loan_amnt  ...    inc_log  deling_log  util_log\n",
              "0   0    120000.0       3600  ...  11.695248   -2.302585  3.666122\n",
              "1   1    125000.0      15000  ...  11.736070   -2.302585  4.235555\n",
              "2   2     50000.0       8400  ...  10.819780   -2.302585  4.175925\n",
              "3   3     50000.0       4000  ...  10.819780    0.095310  4.027136\n",
              "4   4    125000.0       6000  ...  11.736070   -2.302585  4.420045\n",
              "\n",
              "[5 rows x 11 columns]"
            ]
          },
          "metadata": {
            "tags": []
          },
          "execution_count": 39
        }
      ]
    },
    {
      "cell_type": "code",
      "metadata": {
        "colab": {
          "base_uri": "https://localhost:8080/",
          "height": 296
        },
        "id": "ij964XAw1hOF",
        "outputId": "09982e95-2174-4f82-b0aa-63da2d15f899"
      },
      "source": [
        "from sklearn.cluster import KMeans\r\n",
        "\r\n",
        "sse = []\r\n",
        "k_rng = range(1,15)\r\n",
        "for k in k_rng:\r\n",
        "    km = KMeans(n_clusters=k)\r\n",
        "    km.fit(df_sel[['util_log']])\r\n",
        "    sse.append(km.inertia_)\r\n",
        "\r\n",
        "plt.xlabel('K')\r\n",
        "plt.ylabel('Sum of squared error')\r\n",
        "plt.plot(k_rng,sse)  "
      ],
      "execution_count": null,
      "outputs": [
        {
          "output_type": "execute_result",
          "data": {
            "text/plain": [
              "[<matplotlib.lines.Line2D at 0x7fecfbada1d0>]"
            ]
          },
          "metadata": {
            "tags": []
          },
          "execution_count": 44
        },
        {
          "output_type": "display_data",
          "data": {
            "image/png": "[encoded data removed]",
            "text/plain": [
              "<Figure size 432x288 with 1 Axes>"
            ]
          },
          "metadata": {
            "tags": [],
            "needs_background": "light"
          }
        }
      ]
    },
    {
      "cell_type": "code",
      "metadata": {
        "colab": {
          "base_uri": "https://localhost:8080/"
        },
        "id": "6uhxNn4e1lkE",
        "outputId": "06267453-be48-404b-b90a-84bcd4480327"
      },
      "source": [
        "km = KMeans(n_clusters=3)\r\n",
        "y_predicted = km.fit_predict(df_sel[['util_log']])\r\n",
        "\r\n",
        "df_sel['util_cluster'] = y_predicted\r\n"
      ],
      "execution_count": 41,
      "outputs": [
        {
          "output_type": "stream",
          "text": [
            "/usr/local/lib/python3.6/dist-packages/ipykernel_launcher.py:4: SettingWithCopyWarning: \n",
            "A value is trying to be set on a copy of a slice from a DataFrame.\n",
            "Try using .loc[row_indexer,col_indexer] = value instead\n",
            "\n",
            "See the caveats in the documentation: https://pandas.pydata.org/pandas-docs/stable/user_guide/indexing.html#returning-a-view-versus-a-copy\n",
            "  after removing the cwd from sys.path.\n"
          ],
          "name": "stderr"
        }
      ]
    },
    {
      "cell_type": "code",
      "metadata": {
        "colab": {
          "base_uri": "https://localhost:8080/"
        },
        "id": "Ig2NL8Pu11By",
        "outputId": "c0ed7e3d-ce9a-4eb8-ea4d-714c147dc9f2"
      },
      "source": [
        "for i in range (0,3):\r\n",
        "  print('Cluster ' + str(i) + ': ' + str(np.median(df_sel['all_util'].loc[df_sel['util_cluster'] == i])) )"
      ],
      "execution_count": 42,
      "outputs": [
        {
          "output_type": "stream",
          "text": [
            "Cluster 0: 67.0\n",
            "Cluster 1: 10.0\n",
            "Cluster 2: 38.0\n"
          ],
          "name": "stdout"
        }
      ]
    },
    {
      "cell_type": "code",
      "metadata": {
        "id": "IdzNCkmf19eW"
      },
      "source": [
        "df_sel.loc[df_sel['util_cluster'] == 0, 'util_score'] = 1\r\n",
        "df_sel.loc[df_sel['util_cluster'] == 2, 'util_score'] = 2\r\n",
        "df_sel.loc[df_sel['util_cluster'] == 1, 'util_score'] = 3\r\n",
        "\r\n"
      ],
      "execution_count": null,
      "outputs": []
    },
    {
      "cell_type": "code",
      "metadata": {
        "colab": {
          "base_uri": "https://localhost:8080/"
        },
        "id": "gewabEQxZyBh",
        "outputId": "4ec84da5-67b0-443e-ccd5-fb87cbd7433a"
      },
      "source": [
        "df_sel.groupby(['util_score'])['id'].count()"
      ],
      "execution_count": 44,
      "outputs": [
        {
          "output_type": "execute_result",
          "data": {
            "text/plain": [
              "util_score\n",
              "1.0    67295\n",
              "2.0    27499\n",
              "3.0     1985\n",
              "Name: id, dtype: int64"
            ]
          },
          "metadata": {
            "tags": []
          },
          "execution_count": 44
        }
      ]
    },
    {
      "cell_type": "code",
      "metadata": {
        "colab": {
          "base_uri": "https://localhost:8080/"
        },
        "id": "HSpQUlMXb3aY",
        "outputId": "5f7bf478-72d8-4eef-83ac-d306f62f0fc4"
      },
      "source": [
        "util_log = df_sel[['util_log']]\r\n",
        "range_n_clusters = [2, 3, 4, 5, 6]\r\n",
        "\r\n",
        "for n_clusters in range_n_clusters:\r\n",
        "    # Initialize the clusterer with n_clusters value and a random generator\r\n",
        "    # seed of 10 for reproducibility.\r\n",
        "    clusterer = KMeans(n_clusters=n_clusters, random_state=10)\r\n",
        "    cluster_labels = clusterer.fit_predict(util_log)\r\n",
        "\r\n",
        "    # The silhouette_score gives the average value for all the samples.\r\n",
        "    # This gives a perspective into the density and separation of the formed\r\n",
        "    # clusters\r\n",
        "    silhouette_avg = silhouette_score(util_log, cluster_labels)\r\n",
        "    print(\"For n_clusters =\", n_clusters,\r\n",
        "          \"The average silhouette_score is :\", silhouette_avg)"
      ],
      "execution_count": 40,
      "outputs": [
        {
          "output_type": "stream",
          "text": [
            "For n_clusters = 2 The average silhouette_score is : 0.6373776996383936\n",
            "For n_clusters = 3 The average silhouette_score is : 0.5836325634512676\n",
            "For n_clusters = 4 The average silhouette_score is : 0.5504771204577789\n",
            "For n_clusters = 5 The average silhouette_score is : 0.5395600490865987\n",
            "For n_clusters = 6 The average silhouette_score is : 0.53198346558212\n"
          ],
          "name": "stdout"
        }
      ]
    },
    {
      "cell_type": "code",
      "metadata": {
        "colab": {
          "base_uri": "https://localhost:8080/",
          "height": 204
        },
        "id": "9ruLiU4zoZ1g",
        "outputId": "6a5895a9-8e71-4dd9-b4b1-02814802390e"
      },
      "source": [
        "df_sel.head()"
      ],
      "execution_count": 55,
      "outputs": [
        {
          "output_type": "execute_result",
          "data": {
            "text/html": [
              "<div>\n",
              "<style scoped>\n",
              "    .dataframe tbody tr th:only-of-type {\n",
              "        vertical-align: middle;\n",
              "    }\n",
              "\n",
              "    .dataframe tbody tr th {\n",
              "        vertical-align: top;\n",
              "    }\n",
              "\n",
              "    .dataframe thead th {\n",
              "        text-align: right;\n",
              "    }\n",
              "</style>\n",
              "<table border=\"1\" class=\"dataframe\">\n",
              "  <thead>\n",
              "    <tr style=\"text-align: right;\">\n",
              "      <th></th>\n",
              "      <th>id</th>\n",
              "      <th>annual_inc</th>\n",
              "      <th>loan_amnt</th>\n",
              "      <th>total_rec_late_fee</th>\n",
              "      <th>delinq_2yrs</th>\n",
              "      <th>inq_last_12m</th>\n",
              "      <th>int_rate</th>\n",
              "      <th>all_util</th>\n",
              "      <th>inc_log</th>\n",
              "      <th>deling_log</th>\n",
              "      <th>util_log</th>\n",
              "      <th>util_cluster</th>\n",
              "      <th>util_score</th>\n",
              "      <th>deling_cluster</th>\n",
              "      <th>deling_score</th>\n",
              "      <th>inc_cluster</th>\n",
              "      <th>inc_score</th>\n",
              "    </tr>\n",
              "  </thead>\n",
              "  <tbody>\n",
              "    <tr>\n",
              "      <th>0</th>\n",
              "      <td>0</td>\n",
              "      <td>120000.0</td>\n",
              "      <td>3600</td>\n",
              "      <td>0.0</td>\n",
              "      <td>0</td>\n",
              "      <td>4</td>\n",
              "      <td>7.49%</td>\n",
              "      <td>39.0</td>\n",
              "      <td>11.695248</td>\n",
              "      <td>-2.302585</td>\n",
              "      <td>3.666122</td>\n",
              "      <td>2</td>\n",
              "      <td>2.0</td>\n",
              "      <td>0</td>\n",
              "      <td>4.0</td>\n",
              "      <td>0</td>\n",
              "      <td>4.0</td>\n",
              "    </tr>\n",
              "    <tr>\n",
              "      <th>1</th>\n",
              "      <td>1</td>\n",
              "      <td>125000.0</td>\n",
              "      <td>15000</td>\n",
              "      <td>0.0</td>\n",
              "      <td>0</td>\n",
              "      <td>0</td>\n",
              "      <td>14.99%</td>\n",
              "      <td>69.0</td>\n",
              "      <td>11.736070</td>\n",
              "      <td>-2.302585</td>\n",
              "      <td>4.235555</td>\n",
              "      <td>0</td>\n",
              "      <td>1.0</td>\n",
              "      <td>0</td>\n",
              "      <td>4.0</td>\n",
              "      <td>0</td>\n",
              "      <td>4.0</td>\n",
              "    </tr>\n",
              "    <tr>\n",
              "      <th>2</th>\n",
              "      <td>2</td>\n",
              "      <td>50000.0</td>\n",
              "      <td>8400</td>\n",
              "      <td>0.0</td>\n",
              "      <td>0</td>\n",
              "      <td>7</td>\n",
              "      <td>11.39%</td>\n",
              "      <td>65.0</td>\n",
              "      <td>10.819780</td>\n",
              "      <td>-2.302585</td>\n",
              "      <td>4.175925</td>\n",
              "      <td>0</td>\n",
              "      <td>1.0</td>\n",
              "      <td>0</td>\n",
              "      <td>4.0</td>\n",
              "      <td>1</td>\n",
              "      <td>2.0</td>\n",
              "    </tr>\n",
              "    <tr>\n",
              "      <th>3</th>\n",
              "      <td>3</td>\n",
              "      <td>50000.0</td>\n",
              "      <td>4000</td>\n",
              "      <td>0.0</td>\n",
              "      <td>1</td>\n",
              "      <td>1</td>\n",
              "      <td>10.49%</td>\n",
              "      <td>56.0</td>\n",
              "      <td>10.819780</td>\n",
              "      <td>0.095310</td>\n",
              "      <td>4.027136</td>\n",
              "      <td>0</td>\n",
              "      <td>1.0</td>\n",
              "      <td>1</td>\n",
              "      <td>3.0</td>\n",
              "      <td>1</td>\n",
              "      <td>2.0</td>\n",
              "    </tr>\n",
              "    <tr>\n",
              "      <th>4</th>\n",
              "      <td>4</td>\n",
              "      <td>125000.0</td>\n",
              "      <td>6000</td>\n",
              "      <td>0.0</td>\n",
              "      <td>0</td>\n",
              "      <td>1</td>\n",
              "      <td>7.24%</td>\n",
              "      <td>83.0</td>\n",
              "      <td>11.736070</td>\n",
              "      <td>-2.302585</td>\n",
              "      <td>4.420045</td>\n",
              "      <td>0</td>\n",
              "      <td>1.0</td>\n",
              "      <td>0</td>\n",
              "      <td>4.0</td>\n",
              "      <td>0</td>\n",
              "      <td>4.0</td>\n",
              "    </tr>\n",
              "  </tbody>\n",
              "</table>\n",
              "</div>"
            ],
            "text/plain": [
              "   id  annual_inc  loan_amnt  ...  deling_score  inc_cluster  inc_score\n",
              "0   0    120000.0       3600  ...           4.0            0        4.0\n",
              "1   1    125000.0      15000  ...           4.0            0        4.0\n",
              "2   2     50000.0       8400  ...           4.0            1        2.0\n",
              "3   3     50000.0       4000  ...           3.0            1        2.0\n",
              "4   4    125000.0       6000  ...           4.0            0        4.0\n",
              "\n",
              "[5 rows x 17 columns]"
            ]
          },
          "metadata": {
            "tags": []
          },
          "execution_count": 55
        }
      ]
    },
    {
      "cell_type": "code",
      "metadata": {
        "id": "um5tzcUuaXU6"
      },
      "source": [
        "df_sel.to_csv('/content/drive/Shareddrives/Master In Data Science/Personal Python Script/lpetrocelli-lendingclub-loan-data-2017-q-1/customer_score.csv', index=False)"
      ],
      "execution_count": 57,
      "outputs": []
    },
    {
      "cell_type": "markdown",
      "metadata": {
        "id": "2Ov9GH_eQ4sL"
      },
      "source": [
        "# Customer Segmentation"
      ]
    },
    {
      "cell_type": "code",
      "metadata": {
        "id": "EdHVPOAqPLg7"
      },
      "source": [
        "pd_score = pd.read_csv('/content/drive/Shareddrives/Master In Data Science/Personal Python Script/lpetrocelli-lendingclub-loan-data-2017-q-1/customer_score.csv')"
      ],
      "execution_count": 6,
      "outputs": []
    },
    {
      "cell_type": "code",
      "metadata": {
        "colab": {
          "base_uri": "https://localhost:8080/",
          "height": 224
        },
        "id": "9nhn2wi_efRu",
        "outputId": "d6aaff85-125a-419a-a5f2-70eb4d953edb"
      },
      "source": [
        "pd_score.head()"
      ],
      "execution_count": null,
      "outputs": [
        {
          "output_type": "execute_result",
          "data": {
            "text/html": [
              "<div>\n",
              "<style scoped>\n",
              "    .dataframe tbody tr th:only-of-type {\n",
              "        vertical-align: middle;\n",
              "    }\n",
              "\n",
              "    .dataframe tbody tr th {\n",
              "        vertical-align: top;\n",
              "    }\n",
              "\n",
              "    .dataframe thead th {\n",
              "        text-align: right;\n",
              "    }\n",
              "</style>\n",
              "<table border=\"1\" class=\"dataframe\">\n",
              "  <thead>\n",
              "    <tr style=\"text-align: right;\">\n",
              "      <th></th>\n",
              "      <th>id</th>\n",
              "      <th>annual_inc</th>\n",
              "      <th>loan_amnt</th>\n",
              "      <th>total_rec_late_fee</th>\n",
              "      <th>delinq_2yrs</th>\n",
              "      <th>inq_last_12m</th>\n",
              "      <th>int_rate</th>\n",
              "      <th>all_util</th>\n",
              "      <th>inc_log</th>\n",
              "      <th>inc_cluster</th>\n",
              "      <th>rev_score</th>\n",
              "      <th>inc_score</th>\n",
              "      <th>deling_log</th>\n",
              "      <th>deling_cluster</th>\n",
              "      <th>deling_score</th>\n",
              "      <th>loan_log</th>\n",
              "      <th>loan_cluster</th>\n",
              "      <th>util_log</th>\n",
              "      <th>util_cluster</th>\n",
              "      <th>util_score</th>\n",
              "    </tr>\n",
              "  </thead>\n",
              "  <tbody>\n",
              "    <tr>\n",
              "      <th>0</th>\n",
              "      <td>0</td>\n",
              "      <td>120000.0</td>\n",
              "      <td>3600</td>\n",
              "      <td>0.0</td>\n",
              "      <td>0</td>\n",
              "      <td>4</td>\n",
              "      <td>7.49%</td>\n",
              "      <td>39.0</td>\n",
              "      <td>11.695248</td>\n",
              "      <td>2</td>\n",
              "      <td>3.0</td>\n",
              "      <td>3.0</td>\n",
              "      <td>-2.302585</td>\n",
              "      <td>0</td>\n",
              "      <td>3.0</td>\n",
              "      <td>8.188717</td>\n",
              "      <td>3</td>\n",
              "      <td>3.666122</td>\n",
              "      <td>3</td>\n",
              "      <td>1.0</td>\n",
              "    </tr>\n",
              "    <tr>\n",
              "      <th>1</th>\n",
              "      <td>1</td>\n",
              "      <td>125000.0</td>\n",
              "      <td>15000</td>\n",
              "      <td>0.0</td>\n",
              "      <td>0</td>\n",
              "      <td>0</td>\n",
              "      <td>14.99%</td>\n",
              "      <td>69.0</td>\n",
              "      <td>11.736070</td>\n",
              "      <td>2</td>\n",
              "      <td>3.0</td>\n",
              "      <td>3.0</td>\n",
              "      <td>-2.302585</td>\n",
              "      <td>0</td>\n",
              "      <td>3.0</td>\n",
              "      <td>9.615812</td>\n",
              "      <td>0</td>\n",
              "      <td>4.235555</td>\n",
              "      <td>0</td>\n",
              "      <td>0.0</td>\n",
              "    </tr>\n",
              "    <tr>\n",
              "      <th>2</th>\n",
              "      <td>2</td>\n",
              "      <td>50000.0</td>\n",
              "      <td>8400</td>\n",
              "      <td>0.0</td>\n",
              "      <td>0</td>\n",
              "      <td>7</td>\n",
              "      <td>11.39%</td>\n",
              "      <td>65.0</td>\n",
              "      <td>10.819780</td>\n",
              "      <td>1</td>\n",
              "      <td>1.0</td>\n",
              "      <td>1.0</td>\n",
              "      <td>-2.302585</td>\n",
              "      <td>0</td>\n",
              "      <td>3.0</td>\n",
              "      <td>9.035999</td>\n",
              "      <td>1</td>\n",
              "      <td>4.175925</td>\n",
              "      <td>0</td>\n",
              "      <td>0.0</td>\n",
              "    </tr>\n",
              "    <tr>\n",
              "      <th>3</th>\n",
              "      <td>3</td>\n",
              "      <td>50000.0</td>\n",
              "      <td>4000</td>\n",
              "      <td>0.0</td>\n",
              "      <td>1</td>\n",
              "      <td>1</td>\n",
              "      <td>10.49%</td>\n",
              "      <td>56.0</td>\n",
              "      <td>10.819780</td>\n",
              "      <td>1</td>\n",
              "      <td>1.0</td>\n",
              "      <td>1.0</td>\n",
              "      <td>0.095310</td>\n",
              "      <td>1</td>\n",
              "      <td>2.0</td>\n",
              "      <td>8.294075</td>\n",
              "      <td>1</td>\n",
              "      <td>4.027136</td>\n",
              "      <td>3</td>\n",
              "      <td>1.0</td>\n",
              "    </tr>\n",
              "    <tr>\n",
              "      <th>4</th>\n",
              "      <td>4</td>\n",
              "      <td>125000.0</td>\n",
              "      <td>6000</td>\n",
              "      <td>0.0</td>\n",
              "      <td>0</td>\n",
              "      <td>1</td>\n",
              "      <td>7.24%</td>\n",
              "      <td>83.0</td>\n",
              "      <td>11.736070</td>\n",
              "      <td>2</td>\n",
              "      <td>3.0</td>\n",
              "      <td>3.0</td>\n",
              "      <td>-2.302585</td>\n",
              "      <td>0</td>\n",
              "      <td>3.0</td>\n",
              "      <td>8.699531</td>\n",
              "      <td>1</td>\n",
              "      <td>4.420045</td>\n",
              "      <td>0</td>\n",
              "      <td>0.0</td>\n",
              "    </tr>\n",
              "  </tbody>\n",
              "</table>\n",
              "</div>"
            ],
            "text/plain": [
              "   id  annual_inc  loan_amnt  ...  util_log  util_cluster  util_score\n",
              "0   0    120000.0       3600  ...  3.666122             3         1.0\n",
              "1   1    125000.0      15000  ...  4.235555             0         0.0\n",
              "2   2     50000.0       8400  ...  4.175925             0         0.0\n",
              "3   3     50000.0       4000  ...  4.027136             3         1.0\n",
              "4   4    125000.0       6000  ...  4.420045             0         0.0\n",
              "\n",
              "[5 rows x 20 columns]"
            ]
          },
          "metadata": {
            "tags": []
          },
          "execution_count": 69
        }
      ]
    },
    {
      "cell_type": "code",
      "metadata": {
        "id": "tZ9mZkNZfAMh"
      },
      "source": [
        "#df_score = pd_score[['id','inc_score','deling_score','util_score']]\r\n",
        "df_score = df_sel[['id','inc_score','deling_score','util_score']] "
      ],
      "execution_count": 56,
      "outputs": []
    },
    {
      "cell_type": "code",
      "metadata": {
        "colab": {
          "base_uri": "https://localhost:8080/",
          "height": 296
        },
        "id": "fKE9HlLkfrD5",
        "outputId": "484d45c2-cbcd-4e18-8321-8346926d3777"
      },
      "source": [
        "sse = []\r\n",
        "k_rng = range(1,15)\r\n",
        "for k in k_rng:\r\n",
        "    km = KMeans(n_clusters=k)\r\n",
        "    #km.fit(history_set_concat[['close_z','volume_z', 'max_close_30_%' ,'50_ma_var','100_ma_var', '50_100_ma_var', 'previous close_var', 'previous_close_var_2', 'previous_close_var_3', 'previous_close_var_4',\r\n",
        "    #   'previous_close_var_5', 'open_var']])\r\n",
        "    km.fit(df_score[['inc_score','deling_score','util_score']])\r\n",
        "    sse.append(km.inertia_)\r\n",
        "\r\n",
        "plt.xlabel('K')\r\n",
        "plt.ylabel('Sum of squared error')\r\n",
        "plt.plot(k_rng,sse)"
      ],
      "execution_count": null,
      "outputs": [
        {
          "output_type": "execute_result",
          "data": {
            "text/plain": [
              "[<matplotlib.lines.Line2D at 0x7feceb60c390>]"
            ]
          },
          "metadata": {
            "tags": []
          },
          "execution_count": 71
        },
        {
          "output_type": "display_data",
          "data": {
            "image/png": "[encoded data removed]",
            "text/plain": [
              "<Figure size 432x288 with 1 Axes>"
            ]
          },
          "metadata": {
            "tags": [],
            "needs_background": "light"
          }
        }
      ]
    },
    {
      "cell_type": "code",
      "metadata": {
        "colab": {
          "base_uri": "https://localhost:8080/"
        },
        "id": "ru3XItAopUf3",
        "outputId": "b21ab32f-d6a6-482d-c032-b72770f6ec61"
      },
      "source": [
        "col = df_sel[['id','inc_score','deling_score','util_score']] \r\n",
        "range_n_clusters = [2, 3, 4, 5, 6, 7]\r\n",
        "\r\n",
        "for n_clusters in range_n_clusters:\r\n",
        "    # Initialize the clusterer with n_clusters value and a random generator\r\n",
        "    # seed of 10 for reproducibility.\r\n",
        "    clusterer = KMeans(n_clusters=n_clusters, random_state=10)\r\n",
        "    cluster_labels = clusterer.fit_predict(col)\r\n",
        "\r\n",
        "    # The silhouette_score gives the average value for all the samples.\r\n",
        "    # This gives a perspective into the density and separation of the formed\r\n",
        "    # clusters\r\n",
        "    silhouette_avg = silhouette_score(col, cluster_labels)\r\n",
        "    print(\"For n_clusters =\", n_clusters,\r\n",
        "          \"The average silhouette_score is :\", silhouette_avg)"
      ],
      "execution_count": 58,
      "outputs": [
        {
          "output_type": "stream",
          "text": [
            "For n_clusters = 2 The average silhouette_score is : 0.6267261744213625\n",
            "For n_clusters = 3 The average silhouette_score is : 0.5901791008182806\n",
            "For n_clusters = 4 The average silhouette_score is : 0.5719045352863484\n",
            "For n_clusters = 5 The average silhouette_score is : 0.5610198544058579\n",
            "For n_clusters = 6 The average silhouette_score is : 0.5538048015028536\n",
            "For n_clusters = 7 The average silhouette_score is : 0.5486230055992504\n"
          ],
          "name": "stdout"
        }
      ]
    },
    {
      "cell_type": "code",
      "metadata": {
        "colab": {
          "base_uri": "https://localhost:8080/"
        },
        "id": "IBMRlRfSgCH-",
        "outputId": "b8a566cb-525c-4ca8-8f07-08d5985a319a"
      },
      "source": [
        "km = KMeans(n_clusters=4)\r\n",
        "score_predicted = km.fit_predict(df_score[['inc_score','deling_score','util_score']])\r\n",
        "df_score['score_cluster'] = score_predicted\r\n",
        "df_score['final_score'] = df_score['inc_score'] + df_score['deling_score'] + df_score['util_score']"
      ],
      "execution_count": 63,
      "outputs": [
        {
          "output_type": "stream",
          "text": [
            "/usr/local/lib/python3.6/dist-packages/ipykernel_launcher.py:3: SettingWithCopyWarning: \n",
            "A value is trying to be set on a copy of a slice from a DataFrame.\n",
            "Try using .loc[row_indexer,col_indexer] = value instead\n",
            "\n",
            "See the caveats in the documentation: https://pandas.pydata.org/pandas-docs/stable/user_guide/indexing.html#returning-a-view-versus-a-copy\n",
            "  This is separate from the ipykernel package so we can avoid doing imports until\n",
            "/usr/local/lib/python3.6/dist-packages/ipykernel_launcher.py:4: SettingWithCopyWarning: \n",
            "A value is trying to be set on a copy of a slice from a DataFrame.\n",
            "Try using .loc[row_indexer,col_indexer] = value instead\n",
            "\n",
            "See the caveats in the documentation: https://pandas.pydata.org/pandas-docs/stable/user_guide/indexing.html#returning-a-view-versus-a-copy\n",
            "  after removing the cwd from sys.path.\n"
          ],
          "name": "stderr"
        }
      ]
    },
    {
      "cell_type": "code",
      "metadata": {
        "colab": {
          "base_uri": "https://localhost:8080/",
          "height": 207
        },
        "id": "gRanSty2gavH",
        "outputId": "54e50cd8-e94d-4ce0-c281-76e25d8559da"
      },
      "source": [
        "df_score.groupby(['score_cluster'])['final_score','inc_score','deling_score','util_score'].mean().reset_index()"
      ],
      "execution_count": 66,
      "outputs": [
        {
          "output_type": "stream",
          "text": [
            "/usr/local/lib/python3.6/dist-packages/ipykernel_launcher.py:1: FutureWarning: Indexing with multiple keys (implicitly converted to a tuple of keys) will be deprecated, use a list instead.\n",
            "  \"\"\"Entry point for launching an IPython kernel.\n"
          ],
          "name": "stderr"
        },
        {
          "output_type": "execute_result",
          "data": {
            "text/html": [
              "<div>\n",
              "<style scoped>\n",
              "    .dataframe tbody tr th:only-of-type {\n",
              "        vertical-align: middle;\n",
              "    }\n",
              "\n",
              "    .dataframe tbody tr th {\n",
              "        vertical-align: top;\n",
              "    }\n",
              "\n",
              "    .dataframe thead th {\n",
              "        text-align: right;\n",
              "    }\n",
              "</style>\n",
              "<table border=\"1\" class=\"dataframe\">\n",
              "  <thead>\n",
              "    <tr style=\"text-align: right;\">\n",
              "      <th></th>\n",
              "      <th>score_cluster</th>\n",
              "      <th>final_score</th>\n",
              "      <th>inc_score</th>\n",
              "      <th>deling_score</th>\n",
              "      <th>util_score</th>\n",
              "    </tr>\n",
              "  </thead>\n",
              "  <tbody>\n",
              "    <tr>\n",
              "      <th>0</th>\n",
              "      <td>0</td>\n",
              "      <td>8.158923</td>\n",
              "      <td>3.314517</td>\n",
              "      <td>3.844406</td>\n",
              "      <td>1.000000</td>\n",
              "    </tr>\n",
              "    <tr>\n",
              "      <th>1</th>\n",
              "      <td>1</td>\n",
              "      <td>6.120503</td>\n",
              "      <td>3.014738</td>\n",
              "      <td>1.777778</td>\n",
              "      <td>1.327987</td>\n",
              "    </tr>\n",
              "    <tr>\n",
              "      <th>2</th>\n",
              "      <td>2</td>\n",
              "      <td>7.193987</td>\n",
              "      <td>1.998830</td>\n",
              "      <td>3.877880</td>\n",
              "      <td>1.317277</td>\n",
              "    </tr>\n",
              "    <tr>\n",
              "      <th>3</th>\n",
              "      <td>3</td>\n",
              "      <td>9.188367</td>\n",
              "      <td>3.252798</td>\n",
              "      <td>3.836324</td>\n",
              "      <td>2.099245</td>\n",
              "    </tr>\n",
              "  </tbody>\n",
              "</table>\n",
              "</div>"
            ],
            "text/plain": [
              "   score_cluster  final_score  inc_score  deling_score  util_score\n",
              "0              0     8.158923   3.314517      3.844406    1.000000\n",
              "1              1     6.120503   3.014738      1.777778    1.327987\n",
              "2              2     7.193987   1.998830      3.877880    1.317277\n",
              "3              3     9.188367   3.252798      3.836324    2.099245"
            ]
          },
          "metadata": {
            "tags": []
          },
          "execution_count": 66
        }
      ]
    },
    {
      "cell_type": "code",
      "metadata": {
        "colab": {
          "base_uri": "https://localhost:8080/"
        },
        "id": "-l0YpDG5gz0j",
        "outputId": "898b4e12-53e1-4470-dbbe-a5b3ee519e0a"
      },
      "source": [
        "df_score.groupby(['score_cluster'])['id'].count()"
      ],
      "execution_count": 67,
      "outputs": [
        {
          "output_type": "execute_result",
          "data": {
            "text/plain": [
              "score_cluster\n",
              "0    43845\n",
              "1     6921\n",
              "2    27342\n",
              "3    18671\n",
              "Name: id, dtype: int64"
            ]
          },
          "metadata": {
            "tags": []
          },
          "execution_count": 67
        }
      ]
    },
    {
      "cell_type": "code",
      "metadata": {
        "colab": {
          "base_uri": "https://localhost:8080/",
          "height": 204
        },
        "id": "gNRqHJd5igZE",
        "outputId": "43f07814-7a3a-4f4f-f29a-671466e2a429"
      },
      "source": [
        "df_score.head()"
      ],
      "execution_count": 68,
      "outputs": [
        {
          "output_type": "execute_result",
          "data": {
            "text/html": [
              "<div>\n",
              "<style scoped>\n",
              "    .dataframe tbody tr th:only-of-type {\n",
              "        vertical-align: middle;\n",
              "    }\n",
              "\n",
              "    .dataframe tbody tr th {\n",
              "        vertical-align: top;\n",
              "    }\n",
              "\n",
              "    .dataframe thead th {\n",
              "        text-align: right;\n",
              "    }\n",
              "</style>\n",
              "<table border=\"1\" class=\"dataframe\">\n",
              "  <thead>\n",
              "    <tr style=\"text-align: right;\">\n",
              "      <th></th>\n",
              "      <th>id</th>\n",
              "      <th>inc_score</th>\n",
              "      <th>deling_score</th>\n",
              "      <th>util_score</th>\n",
              "      <th>score_cluster</th>\n",
              "      <th>final_score</th>\n",
              "    </tr>\n",
              "  </thead>\n",
              "  <tbody>\n",
              "    <tr>\n",
              "      <th>0</th>\n",
              "      <td>0</td>\n",
              "      <td>4.0</td>\n",
              "      <td>4.0</td>\n",
              "      <td>2.0</td>\n",
              "      <td>3</td>\n",
              "      <td>10.0</td>\n",
              "    </tr>\n",
              "    <tr>\n",
              "      <th>1</th>\n",
              "      <td>1</td>\n",
              "      <td>4.0</td>\n",
              "      <td>4.0</td>\n",
              "      <td>1.0</td>\n",
              "      <td>0</td>\n",
              "      <td>9.0</td>\n",
              "    </tr>\n",
              "    <tr>\n",
              "      <th>2</th>\n",
              "      <td>2</td>\n",
              "      <td>2.0</td>\n",
              "      <td>4.0</td>\n",
              "      <td>1.0</td>\n",
              "      <td>2</td>\n",
              "      <td>7.0</td>\n",
              "    </tr>\n",
              "    <tr>\n",
              "      <th>3</th>\n",
              "      <td>3</td>\n",
              "      <td>2.0</td>\n",
              "      <td>3.0</td>\n",
              "      <td>1.0</td>\n",
              "      <td>2</td>\n",
              "      <td>6.0</td>\n",
              "    </tr>\n",
              "    <tr>\n",
              "      <th>4</th>\n",
              "      <td>4</td>\n",
              "      <td>4.0</td>\n",
              "      <td>4.0</td>\n",
              "      <td>1.0</td>\n",
              "      <td>0</td>\n",
              "      <td>9.0</td>\n",
              "    </tr>\n",
              "  </tbody>\n",
              "</table>\n",
              "</div>"
            ],
            "text/plain": [
              "   id  inc_score  deling_score  util_score  score_cluster  final_score\n",
              "0   0        4.0           4.0         2.0              3         10.0\n",
              "1   1        4.0           4.0         1.0              0          9.0\n",
              "2   2        2.0           4.0         1.0              2          7.0\n",
              "3   3        2.0           3.0         1.0              2          6.0\n",
              "4   4        4.0           4.0         1.0              0          9.0"
            ]
          },
          "metadata": {
            "tags": []
          },
          "execution_count": 68
        }
      ]
    },
    {
      "cell_type": "code",
      "metadata": {
        "id": "E4lZiapWi5Gq"
      },
      "source": [
        "df_score.to_csv('/content/drive/Shareddrives/Master In Data Science/Personal Python Script/lpetrocelli-lendingclub-loan-data-2017-q-1/customer_segment.csv', index=False)"
      ],
      "execution_count": 69,
      "outputs": []
    },
    {
      "cell_type": "markdown",
      "metadata": {
        "id": "cKcOCV5t4s3J"
      },
      "source": [
        "## Classification"
      ]
    },
    {
      "cell_type": "code",
      "metadata": {
        "id": "wmW3DjxZjDRX"
      },
      "source": [
        "df_score = pd.read_csv('/content/drive/Shareddrives/Master In Data Science/Personal Python Script/lpetrocelli-lendingclub-loan-data-2017-q-1/customer_segment.csv')\r\n",
        "df_class = pd.merge(df_score, pd_score, how=\"left\", on=[\"id\"])"
      ],
      "execution_count": 70,
      "outputs": []
    },
    {
      "cell_type": "code",
      "metadata": {
        "id": "x2RxEYMc_rsx"
      },
      "source": [
        "dfx = df_class[['annual_inc','delinq_2yrs','all_util']]\r\n",
        "dfy = df_class['score_cluster']  "
      ],
      "execution_count": 71,
      "outputs": []
    },
    {
      "cell_type": "code",
      "metadata": {
        "id": "2-iSxeo4AErB"
      },
      "source": [
        "from sklearn.model_selection import train_test_split\r\n",
        "X_train, X_test, y_train, y_test = train_test_split(dfx, dfy, test_size=0.30, random_state=0)"
      ],
      "execution_count": 81,
      "outputs": []
    },
    {
      "cell_type": "code",
      "metadata": {
        "id": "n2IzrNCSAIO5"
      },
      "source": [
        "from sklearn.model_selection import GridSearchCV\r\n",
        "from sklearn.model_selection import RandomizedSearchCV\r\n",
        "from sklearn.ensemble import RandomForestRegressor\r\n",
        "from sklearn.ensemble import RandomForestClassifier\r\n",
        "\r\n",
        "param_grid = {\r\n",
        "    'bootstrap': [True],\r\n",
        "    'max_depth': [80, 90, 100, 110],\r\n",
        "    'max_features': [2, 3],\r\n",
        "    'min_samples_leaf': [3, 4, 5],\r\n",
        "    'min_samples_split': [8, 10, 12],\r\n",
        "    'n_estimators': [100, 200, 300, 1000]\r\n",
        "}\r\n",
        "# Create a based model\r\n",
        "rf = RandomForestClassifier()\r\n",
        "# rf = RandomForestRegressor()\r\n",
        "# Instantiate the grid search model\r\n",
        "grid_search__rf = GridSearchCV(estimator = rf, param_grid = param_grid, \r\n",
        "                          cv = 3, n_jobs = -1, verbose = 2)"
      ],
      "execution_count": 3,
      "outputs": []
    },
    {
      "cell_type": "code",
      "metadata": {
        "id": "D37znwdFCtsB"
      },
      "source": [
        "rf = RandomForestClassifier().fit(X_train, y_train)\r\n",
        "#grid_search__rf.fit(X_train, y_train)"
      ],
      "execution_count": 82,
      "outputs": []
    },
    {
      "cell_type": "code",
      "metadata": {
        "id": "PZ7qoZhVx3PS"
      },
      "source": [
        ""
      ],
      "execution_count": null,
      "outputs": []
    },
    {
      "cell_type": "code",
      "metadata": {
        "id": "Qcah7yiiC0DB"
      },
      "source": [
        "import pickle\r\n",
        "filename = '/content/drive/Shareddrives/Master In Data Science/Personal Python Script/lpetrocelli-lendingclub-loan-data-2017-q-1/customer_segmentation.sav'\r\n",
        "pickle.dump(rf, open(filename, 'wb'))"
      ],
      "execution_count": 89,
      "outputs": []
    },
    {
      "cell_type": "code",
      "metadata": {
        "colab": {
          "base_uri": "https://localhost:8080/"
        },
        "id": "cb-Bp6Cht917",
        "outputId": "d0086250-a45d-4216-fff9-a248ffc3b43a"
      },
      "source": [
        "from sklearn.metrics import confusion_matrix\r\n",
        "x_pred = rf.predict(X_train)\r\n",
        "#x_pred = grid_search__rf.predict(X_train)\r\n",
        "cfm = confusion_matrix(y_train.tolist(), x_pred )\r\n",
        "print(cfm)"
      ],
      "execution_count": 85,
      "outputs": [
        {
          "output_type": "stream",
          "text": [
            "[[30686     0     0     0]\n",
            " [    0  4853     0     0]\n",
            " [    0     0 19138     0]\n",
            " [    0     0     0 13068]]\n"
          ],
          "name": "stdout"
        }
      ]
    },
    {
      "cell_type": "code",
      "metadata": {
        "colab": {
          "base_uri": "https://localhost:8080/"
        },
        "id": "k7JC-8fCuhj5",
        "outputId": "e376028b-3a6e-4344-cf9f-bfb1d8b197e2"
      },
      "source": [
        "y_pred = rf.predict(X_test)\r\n",
        "#y_pred = grid_search__rf.predict(X_test)\r\n",
        "cfm = confusion_matrix(y_test.tolist(), y_pred )\r\n",
        "print(cfm)"
      ],
      "execution_count": 90,
      "outputs": [
        {
          "output_type": "stream",
          "text": [
            "[[13159     0     0     0]\n",
            " [    0  2068     0     0]\n",
            " [    0     0  8204     0]\n",
            " [    0     0     0  5603]]\n"
          ],
          "name": "stdout"
        }
      ]
    },
    {
      "cell_type": "code",
      "metadata": {
        "colab": {
          "base_uri": "https://localhost:8080/"
        },
        "id": "H5VF17ksuuYo",
        "outputId": "d0d48670-4567-4426-ef51-083046e19f5b"
      },
      "source": [
        "from sklearn.metrics import classification_report\r\n",
        "print(classification_report(y_test, y_pred))"
      ],
      "execution_count": 84,
      "outputs": [
        {
          "output_type": "stream",
          "text": [
            "              precision    recall  f1-score   support\n",
            "\n",
            "           0       1.00      1.00      1.00     13159\n",
            "           1       1.00      1.00      1.00      2068\n",
            "           2       1.00      1.00      1.00      8204\n",
            "           3       1.00      1.00      1.00      5603\n",
            "\n",
            "    accuracy                           1.00     29034\n",
            "   macro avg       1.00      1.00      1.00     29034\n",
            "weighted avg       1.00      1.00      1.00     29034\n",
            "\n"
          ],
          "name": "stdout"
        }
      ]
    },
    {
      "cell_type": "code",
      "metadata": {
        "id": "XgOjSx0DuyW_",
        "colab": {
          "base_uri": "https://localhost:8080/",
          "height": 718
        },
        "outputId": "47a65d1f-a66e-4261-9b93-dd74a75f0ccb"
      },
      "source": [
        "X_test['score_cluster'] = y_test\r\n",
        "X_test['pred_cluster'] =  y_pred\r\n",
        "X_test.head(15)"
      ],
      "execution_count": 93,
      "outputs": [
        {
          "output_type": "stream",
          "text": [
            "/usr/local/lib/python3.6/dist-packages/ipykernel_launcher.py:1: SettingWithCopyWarning: \n",
            "A value is trying to be set on a copy of a slice from a DataFrame.\n",
            "Try using .loc[row_indexer,col_indexer] = value instead\n",
            "\n",
            "See the caveats in the documentation: https://pandas.pydata.org/pandas-docs/stable/user_guide/indexing.html#returning-a-view-versus-a-copy\n",
            "  \"\"\"Entry point for launching an IPython kernel.\n",
            "/usr/local/lib/python3.6/dist-packages/ipykernel_launcher.py:2: SettingWithCopyWarning: \n",
            "A value is trying to be set on a copy of a slice from a DataFrame.\n",
            "Try using .loc[row_indexer,col_indexer] = value instead\n",
            "\n",
            "See the caveats in the documentation: https://pandas.pydata.org/pandas-docs/stable/user_guide/indexing.html#returning-a-view-versus-a-copy\n",
            "  \n"
          ],
          "name": "stderr"
        },
        {
          "output_type": "execute_result",
          "data": {
            "text/html": [
              "<div>\n",
              "<style scoped>\n",
              "    .dataframe tbody tr th:only-of-type {\n",
              "        vertical-align: middle;\n",
              "    }\n",
              "\n",
              "    .dataframe tbody tr th {\n",
              "        vertical-align: top;\n",
              "    }\n",
              "\n",
              "    .dataframe thead th {\n",
              "        text-align: right;\n",
              "    }\n",
              "</style>\n",
              "<table border=\"1\" class=\"dataframe\">\n",
              "  <thead>\n",
              "    <tr style=\"text-align: right;\">\n",
              "      <th></th>\n",
              "      <th>annual_inc</th>\n",
              "      <th>delinq_2yrs</th>\n",
              "      <th>all_util</th>\n",
              "      <th>score_cluster</th>\n",
              "      <th>pred_cluster</th>\n",
              "    </tr>\n",
              "  </thead>\n",
              "  <tbody>\n",
              "    <tr>\n",
              "      <th>94619</th>\n",
              "      <td>48000.0</td>\n",
              "      <td>0</td>\n",
              "      <td>57.0</td>\n",
              "      <td>2</td>\n",
              "      <td>2</td>\n",
              "    </tr>\n",
              "    <tr>\n",
              "      <th>51450</th>\n",
              "      <td>75000.0</td>\n",
              "      <td>1</td>\n",
              "      <td>103.0</td>\n",
              "      <td>0</td>\n",
              "      <td>0</td>\n",
              "    </tr>\n",
              "    <tr>\n",
              "      <th>89242</th>\n",
              "      <td>100000.0</td>\n",
              "      <td>1</td>\n",
              "      <td>62.0</td>\n",
              "      <td>0</td>\n",
              "      <td>0</td>\n",
              "    </tr>\n",
              "    <tr>\n",
              "      <th>90175</th>\n",
              "      <td>75000.0</td>\n",
              "      <td>0</td>\n",
              "      <td>88.0</td>\n",
              "      <td>0</td>\n",
              "      <td>0</td>\n",
              "    </tr>\n",
              "    <tr>\n",
              "      <th>7655</th>\n",
              "      <td>85000.0</td>\n",
              "      <td>0</td>\n",
              "      <td>55.0</td>\n",
              "      <td>0</td>\n",
              "      <td>0</td>\n",
              "    </tr>\n",
              "    <tr>\n",
              "      <th>19768</th>\n",
              "      <td>62000.0</td>\n",
              "      <td>0</td>\n",
              "      <td>11.0</td>\n",
              "      <td>3</td>\n",
              "      <td>3</td>\n",
              "    </tr>\n",
              "    <tr>\n",
              "      <th>70279</th>\n",
              "      <td>56000.0</td>\n",
              "      <td>0</td>\n",
              "      <td>76.0</td>\n",
              "      <td>0</td>\n",
              "      <td>0</td>\n",
              "    </tr>\n",
              "    <tr>\n",
              "      <th>41761</th>\n",
              "      <td>150000.0</td>\n",
              "      <td>0</td>\n",
              "      <td>74.0</td>\n",
              "      <td>0</td>\n",
              "      <td>0</td>\n",
              "    </tr>\n",
              "    <tr>\n",
              "      <th>87328</th>\n",
              "      <td>35000.0</td>\n",
              "      <td>0</td>\n",
              "      <td>26.0</td>\n",
              "      <td>2</td>\n",
              "      <td>2</td>\n",
              "    </tr>\n",
              "    <tr>\n",
              "      <th>69633</th>\n",
              "      <td>26000.0</td>\n",
              "      <td>0</td>\n",
              "      <td>70.0</td>\n",
              "      <td>2</td>\n",
              "      <td>2</td>\n",
              "    </tr>\n",
              "    <tr>\n",
              "      <th>29492</th>\n",
              "      <td>60000.0</td>\n",
              "      <td>0</td>\n",
              "      <td>39.0</td>\n",
              "      <td>3</td>\n",
              "      <td>3</td>\n",
              "    </tr>\n",
              "    <tr>\n",
              "      <th>41596</th>\n",
              "      <td>75000.0</td>\n",
              "      <td>0</td>\n",
              "      <td>32.0</td>\n",
              "      <td>3</td>\n",
              "      <td>3</td>\n",
              "    </tr>\n",
              "    <tr>\n",
              "      <th>62552</th>\n",
              "      <td>25000.0</td>\n",
              "      <td>0</td>\n",
              "      <td>44.0</td>\n",
              "      <td>2</td>\n",
              "      <td>2</td>\n",
              "    </tr>\n",
              "    <tr>\n",
              "      <th>82922</th>\n",
              "      <td>95000.0</td>\n",
              "      <td>0</td>\n",
              "      <td>44.0</td>\n",
              "      <td>3</td>\n",
              "      <td>3</td>\n",
              "    </tr>\n",
              "    <tr>\n",
              "      <th>3596</th>\n",
              "      <td>105000.0</td>\n",
              "      <td>1</td>\n",
              "      <td>52.0</td>\n",
              "      <td>0</td>\n",
              "      <td>0</td>\n",
              "    </tr>\n",
              "  </tbody>\n",
              "</table>\n",
              "</div>"
            ],
            "text/plain": [
              "       annual_inc  delinq_2yrs  all_util  score_cluster  pred_cluster\n",
              "94619     48000.0            0      57.0              2             2\n",
              "51450     75000.0            1     103.0              0             0\n",
              "89242    100000.0            1      62.0              0             0\n",
              "90175     75000.0            0      88.0              0             0\n",
              "7655      85000.0            0      55.0              0             0\n",
              "19768     62000.0            0      11.0              3             3\n",
              "70279     56000.0            0      76.0              0             0\n",
              "41761    150000.0            0      74.0              0             0\n",
              "87328     35000.0            0      26.0              2             2\n",
              "69633     26000.0            0      70.0              2             2\n",
              "29492     60000.0            0      39.0              3             3\n",
              "41596     75000.0            0      32.0              3             3\n",
              "62552     25000.0            0      44.0              2             2\n",
              "82922     95000.0            0      44.0              3             3\n",
              "3596     105000.0            1      52.0              0             0"
            ]
          },
          "metadata": {
            "tags": []
          },
          "execution_count": 93
        }
      ]
    },
    {
      "cell_type": "code",
      "metadata": {
        "colab": {
          "base_uri": "https://localhost:8080/",
          "height": 224
        },
        "id": "KvhRKWtu--bv",
        "outputId": "ce960e8e-f43a-4452-edb0-fde3aaf91ad8"
      },
      "source": [
        "df_class.head()"
      ],
      "execution_count": 88,
      "outputs": [
        {
          "output_type": "execute_result",
          "data": {
            "text/html": [
              "<div>\n",
              "<style scoped>\n",
              "    .dataframe tbody tr th:only-of-type {\n",
              "        vertical-align: middle;\n",
              "    }\n",
              "\n",
              "    .dataframe tbody tr th {\n",
              "        vertical-align: top;\n",
              "    }\n",
              "\n",
              "    .dataframe thead th {\n",
              "        text-align: right;\n",
              "    }\n",
              "</style>\n",
              "<table border=\"1\" class=\"dataframe\">\n",
              "  <thead>\n",
              "    <tr style=\"text-align: right;\">\n",
              "      <th></th>\n",
              "      <th>id</th>\n",
              "      <th>inc_score_x</th>\n",
              "      <th>deling_score_x</th>\n",
              "      <th>util_score_x</th>\n",
              "      <th>score_cluster</th>\n",
              "      <th>final_score</th>\n",
              "      <th>annual_inc</th>\n",
              "      <th>loan_amnt</th>\n",
              "      <th>total_rec_late_fee</th>\n",
              "      <th>delinq_2yrs</th>\n",
              "      <th>inq_last_12m</th>\n",
              "      <th>int_rate</th>\n",
              "      <th>all_util</th>\n",
              "      <th>inc_log</th>\n",
              "      <th>inc_cluster</th>\n",
              "      <th>rev_score</th>\n",
              "      <th>inc_score_y</th>\n",
              "      <th>deling_log</th>\n",
              "      <th>deling_cluster</th>\n",
              "      <th>deling_score_y</th>\n",
              "      <th>loan_log</th>\n",
              "      <th>loan_cluster</th>\n",
              "      <th>util_log</th>\n",
              "      <th>util_cluster</th>\n",
              "      <th>util_score_y</th>\n",
              "    </tr>\n",
              "  </thead>\n",
              "  <tbody>\n",
              "    <tr>\n",
              "      <th>0</th>\n",
              "      <td>0</td>\n",
              "      <td>4.0</td>\n",
              "      <td>4.0</td>\n",
              "      <td>2.0</td>\n",
              "      <td>3</td>\n",
              "      <td>10.0</td>\n",
              "      <td>120000.0</td>\n",
              "      <td>3600</td>\n",
              "      <td>0.0</td>\n",
              "      <td>0</td>\n",
              "      <td>4</td>\n",
              "      <td>7.49%</td>\n",
              "      <td>39.0</td>\n",
              "      <td>11.695248</td>\n",
              "      <td>2</td>\n",
              "      <td>3.0</td>\n",
              "      <td>3.0</td>\n",
              "      <td>-2.302585</td>\n",
              "      <td>0</td>\n",
              "      <td>3.0</td>\n",
              "      <td>8.188717</td>\n",
              "      <td>3</td>\n",
              "      <td>3.666122</td>\n",
              "      <td>3</td>\n",
              "      <td>1.0</td>\n",
              "    </tr>\n",
              "    <tr>\n",
              "      <th>1</th>\n",
              "      <td>1</td>\n",
              "      <td>4.0</td>\n",
              "      <td>4.0</td>\n",
              "      <td>1.0</td>\n",
              "      <td>0</td>\n",
              "      <td>9.0</td>\n",
              "      <td>125000.0</td>\n",
              "      <td>15000</td>\n",
              "      <td>0.0</td>\n",
              "      <td>0</td>\n",
              "      <td>0</td>\n",
              "      <td>14.99%</td>\n",
              "      <td>69.0</td>\n",
              "      <td>11.736070</td>\n",
              "      <td>2</td>\n",
              "      <td>3.0</td>\n",
              "      <td>3.0</td>\n",
              "      <td>-2.302585</td>\n",
              "      <td>0</td>\n",
              "      <td>3.0</td>\n",
              "      <td>9.615812</td>\n",
              "      <td>0</td>\n",
              "      <td>4.235555</td>\n",
              "      <td>0</td>\n",
              "      <td>0.0</td>\n",
              "    </tr>\n",
              "    <tr>\n",
              "      <th>2</th>\n",
              "      <td>2</td>\n",
              "      <td>2.0</td>\n",
              "      <td>4.0</td>\n",
              "      <td>1.0</td>\n",
              "      <td>2</td>\n",
              "      <td>7.0</td>\n",
              "      <td>50000.0</td>\n",
              "      <td>8400</td>\n",
              "      <td>0.0</td>\n",
              "      <td>0</td>\n",
              "      <td>7</td>\n",
              "      <td>11.39%</td>\n",
              "      <td>65.0</td>\n",
              "      <td>10.819780</td>\n",
              "      <td>1</td>\n",
              "      <td>1.0</td>\n",
              "      <td>1.0</td>\n",
              "      <td>-2.302585</td>\n",
              "      <td>0</td>\n",
              "      <td>3.0</td>\n",
              "      <td>9.035999</td>\n",
              "      <td>1</td>\n",
              "      <td>4.175925</td>\n",
              "      <td>0</td>\n",
              "      <td>0.0</td>\n",
              "    </tr>\n",
              "    <tr>\n",
              "      <th>3</th>\n",
              "      <td>3</td>\n",
              "      <td>2.0</td>\n",
              "      <td>3.0</td>\n",
              "      <td>1.0</td>\n",
              "      <td>2</td>\n",
              "      <td>6.0</td>\n",
              "      <td>50000.0</td>\n",
              "      <td>4000</td>\n",
              "      <td>0.0</td>\n",
              "      <td>1</td>\n",
              "      <td>1</td>\n",
              "      <td>10.49%</td>\n",
              "      <td>56.0</td>\n",
              "      <td>10.819780</td>\n",
              "      <td>1</td>\n",
              "      <td>1.0</td>\n",
              "      <td>1.0</td>\n",
              "      <td>0.095310</td>\n",
              "      <td>1</td>\n",
              "      <td>2.0</td>\n",
              "      <td>8.294075</td>\n",
              "      <td>1</td>\n",
              "      <td>4.027136</td>\n",
              "      <td>3</td>\n",
              "      <td>1.0</td>\n",
              "    </tr>\n",
              "    <tr>\n",
              "      <th>4</th>\n",
              "      <td>4</td>\n",
              "      <td>4.0</td>\n",
              "      <td>4.0</td>\n",
              "      <td>1.0</td>\n",
              "      <td>0</td>\n",
              "      <td>9.0</td>\n",
              "      <td>125000.0</td>\n",
              "      <td>6000</td>\n",
              "      <td>0.0</td>\n",
              "      <td>0</td>\n",
              "      <td>1</td>\n",
              "      <td>7.24%</td>\n",
              "      <td>83.0</td>\n",
              "      <td>11.736070</td>\n",
              "      <td>2</td>\n",
              "      <td>3.0</td>\n",
              "      <td>3.0</td>\n",
              "      <td>-2.302585</td>\n",
              "      <td>0</td>\n",
              "      <td>3.0</td>\n",
              "      <td>8.699531</td>\n",
              "      <td>1</td>\n",
              "      <td>4.420045</td>\n",
              "      <td>0</td>\n",
              "      <td>0.0</td>\n",
              "    </tr>\n",
              "  </tbody>\n",
              "</table>\n",
              "</div>"
            ],
            "text/plain": [
              "   id  inc_score_x  deling_score_x  ...  util_log  util_cluster  util_score_y\n",
              "0   0          4.0             4.0  ...  3.666122             3           1.0\n",
              "1   1          4.0             4.0  ...  4.235555             0           0.0\n",
              "2   2          2.0             4.0  ...  4.175925             0           0.0\n",
              "3   3          2.0             3.0  ...  4.027136             3           1.0\n",
              "4   4          4.0             4.0  ...  4.420045             0           0.0\n",
              "\n",
              "[5 rows x 25 columns]"
            ]
          },
          "metadata": {
            "tags": []
          },
          "execution_count": 88
        }
      ]
    },
    {
      "cell_type": "markdown",
      "metadata": {
        "id": "YrWU_s4k3r8A"
      },
      "source": [
        ""
      ]
    },
    {
      "cell_type": "code",
      "metadata": {
        "id": "z-Lc08Nj_e2B"
      },
      "source": [
        ""
      ],
      "execution_count": 93,
      "outputs": []
    },
    {
      "cell_type": "code",
      "metadata": {
        "id": "xeJvY1ClLE-f"
      },
      "source": [
        ""
      ],
      "execution_count": 93,
      "outputs": []
    },
    {
      "cell_type": "code",
      "metadata": {
        "id": "O73v_8arLlcq"
      },
      "source": [
        ""
      ],
      "execution_count": null,
      "outputs": []
    },
    {
      "cell_type": "code",
      "metadata": {
        "id": "zlp-Npw0gEc9"
      },
      "source": [
        ""
      ],
      "execution_count": null,
      "outputs": []
    }
  ]
}