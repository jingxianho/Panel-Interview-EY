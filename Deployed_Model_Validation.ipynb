{
 "cells": [
  {
   "cell_type": "code",
   "execution_count": 1,
   "metadata": {},
   "outputs": [],
   "source": [
    "import requests"
   ]
  },
  {
   "cell_type": "code",
   "execution_count": 28,
   "metadata": {},
   "outputs": [],
   "source": [
    "response = requests.post('http://127.0.0.1:8000/predict', json={\n",
    "  \"cust_id\": 110,\n",
    "  \"annual_inc\": 150000,\n",
    "  \"delinq_2yrs\": 5,\n",
    "  \"cru\": 0.0589\n",
    "})"
   ]
  },
  {
   "cell_type": "code",
   "execution_count": 29,
   "metadata": {},
   "outputs": [],
   "source": [
    "response2 = requests.get('http://127.0.0.1:8000/')"
   ]
  },
  {
   "cell_type": "code",
   "execution_count": 30,
   "metadata": {},
   "outputs": [
    {
     "name": "stdout",
     "output_type": "stream",
     "text": [
      "{'cust_id': 108, 'prediction': 'Cluster 0, Potential Customer, Above Average Income, Low Risk, Sufficient room to promote credit utilization'}\n",
      "{'cust_id': 109, 'prediction': 'Cluster 0, Potential Customer, Above Average Income, Low Risk, Sufficient room to promote credit utilization'}\n",
      "{'cust_id': 110, 'prediction': 'Cluster 5, Potential Customer, High Networth, Low Risk, Low Credit Limit Utilization'}\n",
      "{'cust_id': 110, 'prediction': 'Not Potential Customer'}\n"
     ]
    }
   ],
   "source": [
    "for pred in response2.json():\n",
    "    print(pred)"
   ]
  },
  {
   "cell_type": "code",
   "execution_count": null,
   "metadata": {},
   "outputs": [],
   "source": []
  },
  {
   "cell_type": "code",
   "execution_count": null,
   "metadata": {},
   "outputs": [],
   "source": []
  },
  {
   "cell_type": "code",
   "execution_count": null,
   "metadata": {},
   "outputs": [],
   "source": []
  }
 ],
 "metadata": {
  "kernelspec": {
   "display_name": "Python 3",
   "language": "python",
   "name": "python3"
  },
  "language_info": {
   "codemirror_mode": {
    "name": "ipython",
    "version": 3
   },
   "file_extension": ".py",
   "mimetype": "text/x-python",
   "name": "python",
   "nbconvert_exporter": "python",
   "pygments_lexer": "ipython3",
   "version": "3.7.6"
  }
 },
 "nbformat": 4,
 "nbformat_minor": 4
}
