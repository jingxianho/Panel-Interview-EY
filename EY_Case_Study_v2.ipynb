{
  "nbformat": 4,
  "nbformat_minor": 0,
  "metadata": {
    "colab": {
      "name": "EY Case Study.ipynb",
      "provenance": [],
      "toc_visible": true
    },
    "kernelspec": {
      "name": "python3",
      "display_name": "Python 3"
    }
  },
  "cells": [
    {
      "cell_type": "code",
      "metadata": {
        "id": "6XODr7uFUL4Y"
      },
      "source": [
        "import pandas as pd\r\n",
        "import requests\r\n",
        "import scipy.stats as stats\r\n",
        "import matplotlib.pyplot as plt \r\n",
        "import numpy as np \r\n",
        "from sklearn.cluster import KMeans\r\n",
        "from sklearn.metrics import silhouette_samples, silhouette_score"
      ],
      "execution_count": null,
      "outputs": []
    },
    {
      "cell_type": "code",
      "metadata": {
        "colab": {
          "base_uri": "https://localhost:8080/"
        },
        "id": "a0ta7ySlWvAz",
        "outputId": "ce7fdc75-1e55-43c5-e3d6-77128be925ed"
      },
      "source": [
        "df = pd.read_csv('/content/drive/Shareddrives/Master In Data Science/Personal Python Script/lpetrocelli-lendingclub-loan-data-2017-q-1/LoanStats_2017Q1 2.csv')"
      ],
      "execution_count": null,
      "outputs": [
        {
          "output_type": "stream",
          "text": [
            "/usr/local/lib/python3.6/dist-packages/IPython/core/interactiveshell.py:2718: DtypeWarning: Columns (112) have mixed types.Specify dtype option on import or set low_memory=False.\n",
            "  interactivity=interactivity, compiler=compiler, result=result)\n"
          ],
          "name": "stderr"
        }
      ]
    },
    {
      "cell_type": "code",
      "metadata": {
        "id": "GPZO-0pUd7xo"
      },
      "source": [
        "df['id'] = df.index"
      ],
      "execution_count": null,
      "outputs": []
    },
    {
      "cell_type": "code",
      "metadata": {
        "id": "l12-Xkfka4Bj"
      },
      "source": [
        "df_sel = df[['id','annual_inc','loan_amnt','total_rec_late_fee','delinq_2yrs','inq_last_12m','int_rate','all_util']]\r\n",
        "percent_missing = df_sel.isnull().sum() * 100 / len(df_sel)\r\n",
        "missing_value_df = pd.DataFrame({'column_name': df_sel.columns,\r\n",
        "                                 'percent_missing': percent_missing})"
      ],
      "execution_count": null,
      "outputs": []
    },
    {
      "cell_type": "code",
      "metadata": {
        "colab": {
          "base_uri": "https://localhost:8080/",
          "height": 80
        },
        "id": "3tximslLa8OF",
        "outputId": "e2e0a667-8708-4e6c-813e-9bd93616e38b"
      },
      "source": [
        "missing_value_df.loc[missing_value_df['percent_missing'] > 0 ].sort_values('percent_missing', ascending=False)"
      ],
      "execution_count": null,
      "outputs": [
        {
          "output_type": "execute_result",
          "data": {
            "text/html": [
              "<div>\n",
              "<style scoped>\n",
              "    .dataframe tbody tr th:only-of-type {\n",
              "        vertical-align: middle;\n",
              "    }\n",
              "\n",
              "    .dataframe tbody tr th {\n",
              "        vertical-align: top;\n",
              "    }\n",
              "\n",
              "    .dataframe thead th {\n",
              "        text-align: right;\n",
              "    }\n",
              "</style>\n",
              "<table border=\"1\" class=\"dataframe\">\n",
              "  <thead>\n",
              "    <tr style=\"text-align: right;\">\n",
              "      <th></th>\n",
              "      <th>column_name</th>\n",
              "      <th>percent_missing</th>\n",
              "    </tr>\n",
              "  </thead>\n",
              "  <tbody>\n",
              "    <tr>\n",
              "      <th>all_util</th>\n",
              "      <td>all_util</td>\n",
              "      <td>0.0031</td>\n",
              "    </tr>\n",
              "  </tbody>\n",
              "</table>\n",
              "</div>"
            ],
            "text/plain": [
              "         column_name  percent_missing\n",
              "all_util    all_util           0.0031"
            ]
          },
          "metadata": {
            "tags": []
          },
          "execution_count": 5
        }
      ]
    },
    {
      "cell_type": "markdown",
      "metadata": {
        "id": "fBfaPfI5v8Hf"
      },
      "source": [
        "# Annual Income"
      ]
    },
    {
      "cell_type": "code",
      "metadata": {
        "colab": {
          "base_uri": "https://localhost:8080/",
          "height": 306
        },
        "id": "id5aHTfebRGP",
        "outputId": "788b7dd0-9b78-496b-b2c9-61c14865742e"
      },
      "source": [
        "import scipy.stats as stats\r\n",
        "df_sel['inc_log'] = np.log(df_sel['annual_inc']+0.1)\r\n",
        "df_sel.head()"
      ],
      "execution_count": null,
      "outputs": [
        {
          "output_type": "stream",
          "text": [
            "/usr/local/lib/python3.6/dist-packages/ipykernel_launcher.py:2: SettingWithCopyWarning: \n",
            "A value is trying to be set on a copy of a slice from a DataFrame.\n",
            "Try using .loc[row_indexer,col_indexer] = value instead\n",
            "\n",
            "See the caveats in the documentation: https://pandas.pydata.org/pandas-docs/stable/user_guide/indexing.html#returning-a-view-versus-a-copy\n",
            "  \n"
          ],
          "name": "stderr"
        },
        {
          "output_type": "execute_result",
          "data": {
            "text/html": [
              "<div>\n",
              "<style scoped>\n",
              "    .dataframe tbody tr th:only-of-type {\n",
              "        vertical-align: middle;\n",
              "    }\n",
              "\n",
              "    .dataframe tbody tr th {\n",
              "        vertical-align: top;\n",
              "    }\n",
              "\n",
              "    .dataframe thead th {\n",
              "        text-align: right;\n",
              "    }\n",
              "</style>\n",
              "<table border=\"1\" class=\"dataframe\">\n",
              "  <thead>\n",
              "    <tr style=\"text-align: right;\">\n",
              "      <th></th>\n",
              "      <th>id</th>\n",
              "      <th>annual_inc</th>\n",
              "      <th>loan_amnt</th>\n",
              "      <th>total_rec_late_fee</th>\n",
              "      <th>delinq_2yrs</th>\n",
              "      <th>inq_last_12m</th>\n",
              "      <th>int_rate</th>\n",
              "      <th>all_util</th>\n",
              "      <th>inc_log</th>\n",
              "    </tr>\n",
              "  </thead>\n",
              "  <tbody>\n",
              "    <tr>\n",
              "      <th>0</th>\n",
              "      <td>0</td>\n",
              "      <td>120000.0</td>\n",
              "      <td>3600</td>\n",
              "      <td>0.0</td>\n",
              "      <td>0</td>\n",
              "      <td>4</td>\n",
              "      <td>7.49%</td>\n",
              "      <td>39.0</td>\n",
              "      <td>11.695248</td>\n",
              "    </tr>\n",
              "    <tr>\n",
              "      <th>1</th>\n",
              "      <td>1</td>\n",
              "      <td>125000.0</td>\n",
              "      <td>15000</td>\n",
              "      <td>0.0</td>\n",
              "      <td>0</td>\n",
              "      <td>0</td>\n",
              "      <td>14.99%</td>\n",
              "      <td>69.0</td>\n",
              "      <td>11.736070</td>\n",
              "    </tr>\n",
              "    <tr>\n",
              "      <th>2</th>\n",
              "      <td>2</td>\n",
              "      <td>50000.0</td>\n",
              "      <td>8400</td>\n",
              "      <td>0.0</td>\n",
              "      <td>0</td>\n",
              "      <td>7</td>\n",
              "      <td>11.39%</td>\n",
              "      <td>65.0</td>\n",
              "      <td>10.819780</td>\n",
              "    </tr>\n",
              "    <tr>\n",
              "      <th>3</th>\n",
              "      <td>3</td>\n",
              "      <td>50000.0</td>\n",
              "      <td>4000</td>\n",
              "      <td>0.0</td>\n",
              "      <td>1</td>\n",
              "      <td>1</td>\n",
              "      <td>10.49%</td>\n",
              "      <td>56.0</td>\n",
              "      <td>10.819780</td>\n",
              "    </tr>\n",
              "    <tr>\n",
              "      <th>4</th>\n",
              "      <td>4</td>\n",
              "      <td>125000.0</td>\n",
              "      <td>6000</td>\n",
              "      <td>0.0</td>\n",
              "      <td>0</td>\n",
              "      <td>1</td>\n",
              "      <td>7.24%</td>\n",
              "      <td>83.0</td>\n",
              "      <td>11.736070</td>\n",
              "    </tr>\n",
              "  </tbody>\n",
              "</table>\n",
              "</div>"
            ],
            "text/plain": [
              "   id  annual_inc  loan_amnt  ...  int_rate  all_util    inc_log\n",
              "0   0    120000.0       3600  ...     7.49%      39.0  11.695248\n",
              "1   1    125000.0      15000  ...    14.99%      69.0  11.736070\n",
              "2   2     50000.0       8400  ...    11.39%      65.0  10.819780\n",
              "3   3     50000.0       4000  ...    10.49%      56.0  10.819780\n",
              "4   4    125000.0       6000  ...     7.24%      83.0  11.736070\n",
              "\n",
              "[5 rows x 9 columns]"
            ]
          },
          "metadata": {
            "tags": []
          },
          "execution_count": 34
        }
      ]
    },
    {
      "cell_type": "code",
      "metadata": {
        "colab": {
          "base_uri": "https://localhost:8080/",
          "height": 296
        },
        "id": "r3reFvpgbXNQ",
        "outputId": "767fad09-f378-4cf3-f958-a09d8817f298"
      },
      "source": [
        "from sklearn.cluster import KMeans\r\n",
        "\r\n",
        "sse = []\r\n",
        "k_rng = range(1,15)\r\n",
        "for k in k_rng:\r\n",
        "    km = KMeans(n_clusters=k)\r\n",
        "    km.fit(df_sel[['inc_log']])\r\n",
        "    sse.append(km.inertia_)\r\n",
        "\r\n",
        "plt.xlabel('K')\r\n",
        "plt.ylabel('Sum of squared error')\r\n",
        "plt.plot(k_rng,sse)  "
      ],
      "execution_count": null,
      "outputs": [
        {
          "output_type": "execute_result",
          "data": {
            "text/plain": [
              "[<matplotlib.lines.Line2D at 0x7fecfc5359b0>]"
            ]
          },
          "metadata": {
            "tags": []
          },
          "execution_count": 7
        },
        {
          "output_type": "display_data",
          "data": {
            "image/png": "[encoded data removed]",
            "text/plain": [
              "<Figure size 432x288 with 1 Axes>"
            ]
          },
          "metadata": {
            "tags": [],
            "needs_background": "light"
          }
        }
      ]
    },
    {
      "cell_type": "code",
      "metadata": {
        "colab": {
          "base_uri": "https://localhost:8080/"
        },
        "id": "28hKgJ2fiIDo",
        "outputId": "a56415c1-9407-476a-db22-c1d38122ba22"
      },
      "source": [
        "km = KMeans(n_clusters=4)\r\n",
        "y_predicted = km.fit_predict(df_sel[['inc_log']])\r\n",
        "\r\n",
        "df_sel['inc_cluster'] = y_predicted\r\n"
      ],
      "execution_count": null,
      "outputs": [
        {
          "output_type": "stream",
          "text": [
            "/usr/local/lib/python3.6/dist-packages/ipykernel_launcher.py:4: SettingWithCopyWarning: \n",
            "A value is trying to be set on a copy of a slice from a DataFrame.\n",
            "Try using .loc[row_indexer,col_indexer] = value instead\n",
            "\n",
            "See the caveats in the documentation: https://pandas.pydata.org/pandas-docs/stable/user_guide/indexing.html#returning-a-view-versus-a-copy\n",
            "  after removing the cwd from sys.path.\n"
          ],
          "name": "stderr"
        }
      ]
    },
    {
      "cell_type": "code",
      "metadata": {
        "colab": {
          "base_uri": "https://localhost:8080/"
        },
        "id": "VKHMADYHijyi",
        "outputId": "0350b264-5d2a-4fc9-fb20-ca1317c5d462"
      },
      "source": [
        "for i in range (0,4):\r\n",
        "  print('Cluster ' + str(i) + ': ' + str(np.median(df_sel['annual_inc'].loc[df_sel['inc_cluster'] == i])) )"
      ],
      "execution_count": null,
      "outputs": [
        {
          "output_type": "stream",
          "text": [
            "Cluster 0: 135000.0\n",
            "Cluster 1: 40000.0\n",
            "Cluster 2: 0.0\n",
            "Cluster 3: 73000.0\n"
          ],
          "name": "stdout"
        }
      ]
    },
    {
      "cell_type": "code",
      "metadata": {
        "id": "3yspcfZ2i8DP"
      },
      "source": [
        "df_sel.loc[df_sel['inc_cluster'] == 2, 'inc_score'] = 0\r\n",
        "df_sel.loc[df_sel['inc_cluster'] == 1, 'inc_score'] = 1\r\n",
        "df_sel.loc[df_sel['inc_cluster'] == 3, 'inc_score'] = 2\r\n",
        "df_sel.loc[df_sel['inc_cluster'] == 0, 'inc_score'] = 3\r\n",
        "\r\n"
      ],
      "execution_count": null,
      "outputs": []
    },
    {
      "cell_type": "code",
      "metadata": {
        "colab": {
          "base_uri": "https://localhost:8080/"
        },
        "id": "hzSvzgC-kWIc",
        "outputId": "236f1916-4aa2-444c-9edc-f130a18ea9ca"
      },
      "source": [
        "df_sel.groupby(['inc_score'])['id'].count()"
      ],
      "execution_count": null,
      "outputs": [
        {
          "output_type": "execute_result",
          "data": {
            "text/plain": [
              "inc_score\n",
              "1.0       33\n",
              "2.0    29723\n",
              "3.0    45996\n",
              "4.0    21027\n",
              "Name: id, dtype: int64"
            ]
          },
          "metadata": {
            "tags": []
          },
          "execution_count": 54
        }
      ]
    },
    {
      "cell_type": "code",
      "metadata": {
        "colab": {
          "base_uri": "https://localhost:8080/"
        },
        "id": "_rJmEdRrLmUN",
        "outputId": "4ccb9564-6a68-4db6-fe4b-a697fe38ed5d"
      },
      "source": [
        "inc_log = df_sel[['inc_log']]\r\n",
        "range_n_clusters = [2, 3, 4, 5, 6]\r\n",
        "\r\n",
        "for n_clusters in range_n_clusters:\r\n",
        "    # Initialize the clusterer with n_clusters value and a random generator\r\n",
        "    # seed of 10 for reproducibility.\r\n",
        "    clusterer = KMeans(n_clusters=n_clusters, random_state=10)\r\n",
        "    cluster_labels = clusterer.fit_predict(inc_log)\r\n",
        "\r\n",
        "    # The silhouette_score gives the average value for all the samples.\r\n",
        "    # This gives a perspective into the density and separation of the formed\r\n",
        "    # clusters\r\n",
        "    silhouette_avg = silhouette_score(inc_log, cluster_labels)\r\n",
        "    print(\"For n_clusters =\", n_clusters,\r\n",
        "          \"The average silhouette_score is :\", silhouette_avg)"
      ],
      "execution_count": null,
      "outputs": [
        {
          "output_type": "stream",
          "text": [
            "For n_clusters = 2 The average silhouette_score is : 0.5380752147527527\n",
            "For n_clusters = 3 The average silhouette_score is : 0.5149541889873751\n",
            "For n_clusters = 4 The average silhouette_score is : 0.522719289370218\n",
            "For n_clusters = 5 The average silhouette_score is : 0.5192425189058957\n",
            "For n_clusters = 6 The average silhouette_score is : 0.5217407235070831\n"
          ],
          "name": "stdout"
        }
      ]
    },
    {
      "cell_type": "markdown",
      "metadata": {
        "id": "MNmb8Y34wOMt"
      },
      "source": [
        "# Delinq"
      ]
    },
    {
      "cell_type": "code",
      "metadata": {
        "colab": {
          "base_uri": "https://localhost:8080/",
          "height": 306
        },
        "id": "5tfUQI9lkf0a",
        "outputId": "d9f6fd54-d81d-4d79-c14e-9efa2850782c"
      },
      "source": [
        "df_sel['deling_log'] = np.log(df_sel['delinq_2yrs']+0.1)\r\n",
        "df_sel.head()"
      ],
      "execution_count": null,
      "outputs": [
        {
          "output_type": "stream",
          "text": [
            "/usr/local/lib/python3.6/dist-packages/ipykernel_launcher.py:1: SettingWithCopyWarning: \n",
            "A value is trying to be set on a copy of a slice from a DataFrame.\n",
            "Try using .loc[row_indexer,col_indexer] = value instead\n",
            "\n",
            "See the caveats in the documentation: https://pandas.pydata.org/pandas-docs/stable/user_guide/indexing.html#returning-a-view-versus-a-copy\n",
            "  \"\"\"Entry point for launching an IPython kernel.\n"
          ],
          "name": "stderr"
        },
        {
          "output_type": "execute_result",
          "data": {
            "text/html": [
              "<div>\n",
              "<style scoped>\n",
              "    .dataframe tbody tr th:only-of-type {\n",
              "        vertical-align: middle;\n",
              "    }\n",
              "\n",
              "    .dataframe tbody tr th {\n",
              "        vertical-align: top;\n",
              "    }\n",
              "\n",
              "    .dataframe thead th {\n",
              "        text-align: right;\n",
              "    }\n",
              "</style>\n",
              "<table border=\"1\" class=\"dataframe\">\n",
              "  <thead>\n",
              "    <tr style=\"text-align: right;\">\n",
              "      <th></th>\n",
              "      <th>id</th>\n",
              "      <th>annual_inc</th>\n",
              "      <th>loan_amnt</th>\n",
              "      <th>total_rec_late_fee</th>\n",
              "      <th>delinq_2yrs</th>\n",
              "      <th>inq_last_12m</th>\n",
              "      <th>int_rate</th>\n",
              "      <th>all_util</th>\n",
              "      <th>inc_log</th>\n",
              "      <th>deling_log</th>\n",
              "    </tr>\n",
              "  </thead>\n",
              "  <tbody>\n",
              "    <tr>\n",
              "      <th>0</th>\n",
              "      <td>0</td>\n",
              "      <td>120000.0</td>\n",
              "      <td>3600</td>\n",
              "      <td>0.0</td>\n",
              "      <td>0</td>\n",
              "      <td>4</td>\n",
              "      <td>7.49%</td>\n",
              "      <td>39.0</td>\n",
              "      <td>11.695248</td>\n",
              "      <td>-2.302585</td>\n",
              "    </tr>\n",
              "    <tr>\n",
              "      <th>1</th>\n",
              "      <td>1</td>\n",
              "      <td>125000.0</td>\n",
              "      <td>15000</td>\n",
              "      <td>0.0</td>\n",
              "      <td>0</td>\n",
              "      <td>0</td>\n",
              "      <td>14.99%</td>\n",
              "      <td>69.0</td>\n",
              "      <td>11.736070</td>\n",
              "      <td>-2.302585</td>\n",
              "    </tr>\n",
              "    <tr>\n",
              "      <th>2</th>\n",
              "      <td>2</td>\n",
              "      <td>50000.0</td>\n",
              "      <td>8400</td>\n",
              "      <td>0.0</td>\n",
              "      <td>0</td>\n",
              "      <td>7</td>\n",
              "      <td>11.39%</td>\n",
              "      <td>65.0</td>\n",
              "      <td>10.819780</td>\n",
              "      <td>-2.302585</td>\n",
              "    </tr>\n",
              "    <tr>\n",
              "      <th>3</th>\n",
              "      <td>3</td>\n",
              "      <td>50000.0</td>\n",
              "      <td>4000</td>\n",
              "      <td>0.0</td>\n",
              "      <td>1</td>\n",
              "      <td>1</td>\n",
              "      <td>10.49%</td>\n",
              "      <td>56.0</td>\n",
              "      <td>10.819780</td>\n",
              "      <td>0.095310</td>\n",
              "    </tr>\n",
              "    <tr>\n",
              "      <th>4</th>\n",
              "      <td>4</td>\n",
              "      <td>125000.0</td>\n",
              "      <td>6000</td>\n",
              "      <td>0.0</td>\n",
              "      <td>0</td>\n",
              "      <td>1</td>\n",
              "      <td>7.24%</td>\n",
              "      <td>83.0</td>\n",
              "      <td>11.736070</td>\n",
              "      <td>-2.302585</td>\n",
              "    </tr>\n",
              "  </tbody>\n",
              "</table>\n",
              "</div>"
            ],
            "text/plain": [
              "   id  annual_inc  loan_amnt  ...  all_util    inc_log  deling_log\n",
              "0   0    120000.0       3600  ...      39.0  11.695248   -2.302585\n",
              "1   1    125000.0      15000  ...      69.0  11.736070   -2.302585\n",
              "2   2     50000.0       8400  ...      65.0  10.819780   -2.302585\n",
              "3   3     50000.0       4000  ...      56.0  10.819780    0.095310\n",
              "4   4    125000.0       6000  ...      83.0  11.736070   -2.302585\n",
              "\n",
              "[5 rows x 10 columns]"
            ]
          },
          "metadata": {
            "tags": []
          },
          "execution_count": 36
        }
      ]
    },
    {
      "cell_type": "code",
      "metadata": {
        "colab": {
          "base_uri": "https://localhost:8080/",
          "height": 296
        },
        "id": "3NfHol2yxZNg",
        "outputId": "aa7610bd-115e-4c3a-c193-d1ee736e95d8"
      },
      "source": [
        "from sklearn.cluster import KMeans\r\n",
        "\r\n",
        "sse = []\r\n",
        "k_rng = range(1,15)\r\n",
        "for k in k_rng:\r\n",
        "    km = KMeans(n_clusters=k)\r\n",
        "    km.fit(df_sel[['deling_log']])\r\n",
        "    sse.append(km.inertia_)\r\n",
        "\r\n",
        "plt.xlabel('K')\r\n",
        "plt.ylabel('Sum of squared error')\r\n",
        "plt.plot(k_rng,sse)  "
      ],
      "execution_count": null,
      "outputs": [
        {
          "output_type": "execute_result",
          "data": {
            "text/plain": [
              "[<matplotlib.lines.Line2D at 0x7fecfc052898>]"
            ]
          },
          "metadata": {
            "tags": []
          },
          "execution_count": 15
        },
        {
          "output_type": "display_data",
          "data": {
            "image/png": "[encoded data removed]",
            "text/plain": [
              "<Figure size 432x288 with 1 Axes>"
            ]
          },
          "metadata": {
            "tags": [],
            "needs_background": "light"
          }
        }
      ]
    },
    {
      "cell_type": "code",
      "metadata": {
        "id": "RmzEi8MSyCtF"
      },
      "source": [
        "km = KMeans(n_clusters=3)\r\n",
        "y_predicted = km.fit_predict(df_sel[['deling_log']])\r\n",
        "\r\n",
        "df_sel['deling_cluster'] = y_predicted\r\n"
      ],
      "execution_count": null,
      "outputs": []
    },
    {
      "cell_type": "code",
      "metadata": {
        "colab": {
          "base_uri": "https://localhost:8080/"
        },
        "id": "BdgdmQhSyW_-",
        "outputId": "c1482510-4989-4c1b-c640-0a7fbff0e003"
      },
      "source": [
        "for i in range (0,3):\r\n",
        "  print('Cluster ' + str(i) + ': ' + str(np.median(df_sel['delinq_2yrs'].loc[df_sel['deling_cluster'] == i])) )"
      ],
      "execution_count": null,
      "outputs": [
        {
          "output_type": "stream",
          "text": [
            "Cluster 0: 0.0\n",
            "Cluster 1: 1.0\n",
            "Cluster 2: 5.0\n",
            "Cluster 3: 2.0\n"
          ],
          "name": "stdout"
        }
      ]
    },
    {
      "cell_type": "code",
      "metadata": {
        "id": "E6004pybyfJ1"
      },
      "source": [
        "df_sel.loc[df_sel['deling_cluster'] == 2, 'deling_score'] = 0\r\n",
        "df_sel.loc[df_sel['deling_cluster'] == 3, 'deling_score'] = 1\r\n",
        "df_sel.loc[df_sel['deling_cluster'] == 1, 'deling_score'] = 2\r\n",
        "df_sel.loc[df_sel['deling_cluster'] == 0, 'deling_score'] = 3\r\n"
      ],
      "execution_count": null,
      "outputs": []
    },
    {
      "cell_type": "code",
      "metadata": {
        "colab": {
          "base_uri": "https://localhost:8080/"
        },
        "id": "Z0AO41QbzNNl",
        "outputId": "d31997a8-777a-47ad-d443-5f2cec23543f"
      },
      "source": [
        "df_sel.groupby(['deling_score'])['id'].count()"
      ],
      "execution_count": null,
      "outputs": [
        {
          "output_type": "execute_result",
          "data": {
            "text/plain": [
              "deling_score\n",
              "1.0     1538\n",
              "2.0     5383\n",
              "3.0    13217\n",
              "4.0    76641\n",
              "Name: id, dtype: int64"
            ]
          },
          "metadata": {
            "tags": []
          },
          "execution_count": 49
        }
      ]
    },
    {
      "cell_type": "code",
      "metadata": {
        "colab": {
          "base_uri": "https://localhost:8080/"
        },
        "id": "wggpqHbnYgc7",
        "outputId": "76573afb-c88a-4525-bf2f-7369bd70154a"
      },
      "source": [
        "deling_log = df_sel[['deling_log']]\r\n",
        "range_n_clusters = [2, 3, 4, 5, 6]\r\n",
        "\r\n",
        "for n_clusters in range_n_clusters:\r\n",
        "    # Initialize the clusterer with n_clusters value and a random generator\r\n",
        "    # seed of 10 for reproducibility.\r\n",
        "    clusterer = KMeans(n_clusters=n_clusters, random_state=10)\r\n",
        "    cluster_labels = clusterer.fit_predict(deling_log)\r\n",
        "\r\n",
        "    # The silhouette_score gives the average value for all the samples.\r\n",
        "    # This gives a perspective into the density and separation of the formed\r\n",
        "    # clusters\r\n",
        "    silhouette_avg = silhouette_score(deling_log, cluster_labels)\r\n",
        "    print(\"For n_clusters =\", n_clusters,\r\n",
        "          \"The average silhouette_score is :\", silhouette_avg)"
      ],
      "execution_count": null,
      "outputs": [
        {
          "output_type": "stream",
          "text": [
            "For n_clusters = 2 The average silhouette_score is : 0.9663010087578521\n",
            "For n_clusters = 3 The average silhouette_score is : 0.9701166989172275\n",
            "For n_clusters = 4 The average silhouette_score is : 0.979633039646386\n",
            "For n_clusters = 5 The average silhouette_score is : 0.9895882575078391\n",
            "For n_clusters = 6 The average silhouette_score is : 0.994066957161959\n"
          ],
          "name": "stdout"
        }
      ]
    },
    {
      "cell_type": "markdown",
      "metadata": {
        "id": "zxrs12QT1O0C"
      },
      "source": [
        "# Credit Limit Utilization Rate"
      ]
    },
    {
      "cell_type": "code",
      "metadata": {
        "colab": {
          "base_uri": "https://localhost:8080/",
          "height": 224
        },
        "id": "L-8Xr7vHzVmK",
        "outputId": "d5ed2da3-8f46-437b-e7fd-5f426d96be9d"
      },
      "source": [
        "#df_sel = pd.read_csv('/content/drive/Shareddrives/Master In Data Science/Personal Python Script/lpetrocelli-lendingclub-loan-data-2017-q-1/customer_score.csv') \r\n",
        "\r\n",
        "#df_sel['all_util'].fillna(df_sel['all_util'].median(), inplace=True)\r\n",
        "df_sel['cru'] = df_sel['loan_amnt'] / df_sel['tot_hi_cred_lim']\r\n",
        "\r\n",
        "df_sel['cru_log'] = np.log(df_sel['cru']+0.1)\r\n",
        "df_sel.head()"
      ],
      "execution_count": null,
      "outputs": [
        {
          "output_type": "execute_result",
          "data": {
            "text/html": [
              "<div>\n",
              "<style scoped>\n",
              "    .dataframe tbody tr th:only-of-type {\n",
              "        vertical-align: middle;\n",
              "    }\n",
              "\n",
              "    .dataframe tbody tr th {\n",
              "        vertical-align: top;\n",
              "    }\n",
              "\n",
              "    .dataframe thead th {\n",
              "        text-align: right;\n",
              "    }\n",
              "</style>\n",
              "<table border=\"1\" class=\"dataframe\">\n",
              "  <thead>\n",
              "    <tr style=\"text-align: right;\">\n",
              "      <th></th>\n",
              "      <th>id</th>\n",
              "      <th>annual_inc</th>\n",
              "      <th>loan_amnt</th>\n",
              "      <th>total_rec_late_fee</th>\n",
              "      <th>delinq_2yrs</th>\n",
              "      <th>inq_last_12m</th>\n",
              "      <th>int_rate</th>\n",
              "      <th>all_util</th>\n",
              "      <th>inc_log</th>\n",
              "      <th>inc_cluster</th>\n",
              "      <th>rev_score</th>\n",
              "      <th>inc_score</th>\n",
              "      <th>deling_log</th>\n",
              "      <th>deling_cluster</th>\n",
              "      <th>deling_score</th>\n",
              "      <th>loan_log</th>\n",
              "      <th>loan_cluster</th>\n",
              "      <th>util_log</th>\n",
              "      <th>util_cluster</th>\n",
              "      <th>util_score</th>\n",
              "      <th>tot_hi_cred_lim</th>\n",
              "      <th>cru</th>\n",
              "      <th>cru_log</th>\n",
              "    </tr>\n",
              "  </thead>\n",
              "  <tbody>\n",
              "    <tr>\n",
              "      <th>0</th>\n",
              "      <td>0</td>\n",
              "      <td>120000.0</td>\n",
              "      <td>3600</td>\n",
              "      <td>0.0</td>\n",
              "      <td>0</td>\n",
              "      <td>4</td>\n",
              "      <td>7.49%</td>\n",
              "      <td>39.0</td>\n",
              "      <td>11.695248</td>\n",
              "      <td>2</td>\n",
              "      <td>3.0</td>\n",
              "      <td>3.0</td>\n",
              "      <td>-2.302585</td>\n",
              "      <td>0</td>\n",
              "      <td>3.0</td>\n",
              "      <td>8.188717</td>\n",
              "      <td>3</td>\n",
              "      <td>3.666122</td>\n",
              "      <td>3</td>\n",
              "      <td>1.0</td>\n",
              "      <td>93599</td>\n",
              "      <td>0.038462</td>\n",
              "      <td>-1.977160</td>\n",
              "    </tr>\n",
              "    <tr>\n",
              "      <th>1</th>\n",
              "      <td>1</td>\n",
              "      <td>125000.0</td>\n",
              "      <td>15000</td>\n",
              "      <td>0.0</td>\n",
              "      <td>0</td>\n",
              "      <td>0</td>\n",
              "      <td>14.99%</td>\n",
              "      <td>69.0</td>\n",
              "      <td>11.736070</td>\n",
              "      <td>2</td>\n",
              "      <td>3.0</td>\n",
              "      <td>3.0</td>\n",
              "      <td>-2.302585</td>\n",
              "      <td>0</td>\n",
              "      <td>3.0</td>\n",
              "      <td>9.615812</td>\n",
              "      <td>0</td>\n",
              "      <td>4.235555</td>\n",
              "      <td>0</td>\n",
              "      <td>0.0</td>\n",
              "      <td>148572</td>\n",
              "      <td>0.100961</td>\n",
              "      <td>-1.604644</td>\n",
              "    </tr>\n",
              "    <tr>\n",
              "      <th>2</th>\n",
              "      <td>2</td>\n",
              "      <td>50000.0</td>\n",
              "      <td>8400</td>\n",
              "      <td>0.0</td>\n",
              "      <td>0</td>\n",
              "      <td>7</td>\n",
              "      <td>11.39%</td>\n",
              "      <td>65.0</td>\n",
              "      <td>10.819780</td>\n",
              "      <td>1</td>\n",
              "      <td>1.0</td>\n",
              "      <td>1.0</td>\n",
              "      <td>-2.302585</td>\n",
              "      <td>0</td>\n",
              "      <td>3.0</td>\n",
              "      <td>9.035999</td>\n",
              "      <td>1</td>\n",
              "      <td>4.175925</td>\n",
              "      <td>0</td>\n",
              "      <td>0.0</td>\n",
              "      <td>205671</td>\n",
              "      <td>0.040842</td>\n",
              "      <td>-1.960117</td>\n",
              "    </tr>\n",
              "    <tr>\n",
              "      <th>3</th>\n",
              "      <td>3</td>\n",
              "      <td>50000.0</td>\n",
              "      <td>4000</td>\n",
              "      <td>0.0</td>\n",
              "      <td>1</td>\n",
              "      <td>1</td>\n",
              "      <td>10.49%</td>\n",
              "      <td>56.0</td>\n",
              "      <td>10.819780</td>\n",
              "      <td>1</td>\n",
              "      <td>1.0</td>\n",
              "      <td>1.0</td>\n",
              "      <td>0.095310</td>\n",
              "      <td>1</td>\n",
              "      <td>2.0</td>\n",
              "      <td>8.294075</td>\n",
              "      <td>1</td>\n",
              "      <td>4.027136</td>\n",
              "      <td>3</td>\n",
              "      <td>1.0</td>\n",
              "      <td>152852</td>\n",
              "      <td>0.026169</td>\n",
              "      <td>-2.070132</td>\n",
              "    </tr>\n",
              "    <tr>\n",
              "      <th>4</th>\n",
              "      <td>4</td>\n",
              "      <td>125000.0</td>\n",
              "      <td>6000</td>\n",
              "      <td>0.0</td>\n",
              "      <td>0</td>\n",
              "      <td>1</td>\n",
              "      <td>7.24%</td>\n",
              "      <td>83.0</td>\n",
              "      <td>11.736070</td>\n",
              "      <td>2</td>\n",
              "      <td>3.0</td>\n",
              "      <td>3.0</td>\n",
              "      <td>-2.302585</td>\n",
              "      <td>0</td>\n",
              "      <td>3.0</td>\n",
              "      <td>8.699531</td>\n",
              "      <td>1</td>\n",
              "      <td>4.420045</td>\n",
              "      <td>0</td>\n",
              "      <td>0.0</td>\n",
              "      <td>72865</td>\n",
              "      <td>0.082344</td>\n",
              "      <td>-1.701860</td>\n",
              "    </tr>\n",
              "  </tbody>\n",
              "</table>\n",
              "</div>"
            ],
            "text/plain": [
              "   id  annual_inc  loan_amnt  ...  tot_hi_cred_lim       cru   cru_log\n",
              "0   0    120000.0       3600  ...            93599  0.038462 -1.977160\n",
              "1   1    125000.0      15000  ...           148572  0.100961 -1.604644\n",
              "2   2     50000.0       8400  ...           205671  0.040842 -1.960117\n",
              "3   3     50000.0       4000  ...           152852  0.026169 -2.070132\n",
              "4   4    125000.0       6000  ...            72865  0.082344 -1.701860\n",
              "\n",
              "[5 rows x 23 columns]"
            ]
          },
          "metadata": {
            "tags": []
          },
          "execution_count": 11
        }
      ]
    },
    {
      "cell_type": "code",
      "metadata": {
        "colab": {
          "base_uri": "https://localhost:8080/",
          "height": 296
        },
        "id": "ij964XAw1hOF",
        "outputId": "fb2045be-d722-4d3b-88ca-cc638ade5e5c"
      },
      "source": [
        "from sklearn.cluster import KMeans\r\n",
        "\r\n",
        "sse = []\r\n",
        "k_rng = range(1,15)\r\n",
        "for k in k_rng:\r\n",
        "    km = KMeans(n_clusters=k)\r\n",
        "    km.fit(df_sel[['cru_log']])\r\n",
        "    sse.append(km.inertia_)\r\n",
        "\r\n",
        "plt.xlabel('K')\r\n",
        "plt.ylabel('Sum of squared error')\r\n",
        "plt.plot(k_rng,sse)  "
      ],
      "execution_count": null,
      "outputs": [
        {
          "output_type": "execute_result",
          "data": {
            "text/plain": [
              "[<matplotlib.lines.Line2D at 0x7fe972f606a0>]"
            ]
          },
          "metadata": {
            "tags": []
          },
          "execution_count": 12
        },
        {
          "output_type": "display_data",
          "data": {
            "image/png": "[encoded data removed]",
            "text/plain": [
              "<Figure size 432x288 with 1 Axes>"
            ]
          },
          "metadata": {
            "tags": [],
            "needs_background": "light"
          }
        }
      ]
    },
    {
      "cell_type": "code",
      "metadata": {
        "id": "6uhxNn4e1lkE"
      },
      "source": [
        "km = KMeans(n_clusters=3)\r\n",
        "y_predicted = km.fit_predict(df_sel[['cru_log']])\r\n",
        "\r\n",
        "df_sel['cru_cluster'] = y_predicted\r\n"
      ],
      "execution_count": null,
      "outputs": []
    },
    {
      "cell_type": "code",
      "metadata": {
        "colab": {
          "base_uri": "https://localhost:8080/"
        },
        "id": "Ig2NL8Pu11By",
        "outputId": "194574d6-7851-496b-f2f8-7428834111d6"
      },
      "source": [
        "for i in range (0,3):\r\n",
        "  print('Cluster ' + str(i) + ': ' + str(np.median(df_sel['cru'].loc[df_sel['cru_cluster'] == i])) )"
      ],
      "execution_count": null,
      "outputs": [
        {
          "output_type": "stream",
          "text": [
            "Cluster 0: 0.17391304347826086\n",
            "Cluster 1: 0.05085451476898267\n",
            "Cluster 2: 0.43715130364802157\n"
          ],
          "name": "stdout"
        }
      ]
    },
    {
      "cell_type": "code",
      "metadata": {
        "id": "IdzNCkmf19eW"
      },
      "source": [
        "df_sel.loc[df_sel['cru_cluster'] == 2, 'cru_score'] = 1\r\n",
        "df_sel.loc[df_sel['cru_cluster'] == 0, 'cru_score'] = 2\r\n",
        "df_sel.loc[df_sel['cru_cluster'] == 1, 'cru_score'] = 3\r\n",
        "\r\n"
      ],
      "execution_count": null,
      "outputs": []
    },
    {
      "cell_type": "code",
      "metadata": {
        "colab": {
          "base_uri": "https://localhost:8080/"
        },
        "id": "gewabEQxZyBh",
        "outputId": "bfd3510f-2f13-41ba-d451-f02df1b43a9b"
      },
      "source": [
        "df_sel.groupby(['cru_score'])['id'].count()"
      ],
      "execution_count": null,
      "outputs": [
        {
          "output_type": "execute_result",
          "data": {
            "text/plain": [
              "cru_score\n",
              "1.0    14980\n",
              "2.0    32317\n",
              "3.0    49482\n",
              "Name: id, dtype: int64"
            ]
          },
          "metadata": {
            "tags": []
          },
          "execution_count": 71
        }
      ]
    },
    {
      "cell_type": "code",
      "metadata": {
        "colab": {
          "base_uri": "https://localhost:8080/"
        },
        "id": "HSpQUlMXb3aY",
        "outputId": "8ae6d23f-a7c6-489b-9935-ac8e33aa313c"
      },
      "source": [
        "util_log = df_sel[['cru_log']]\r\n",
        "range_n_clusters = [2, 3, 4, 5, 6]\r\n",
        "\r\n",
        "for n_clusters in range_n_clusters:\r\n",
        "    # Initialize the clusterer with n_clusters value and a random generator\r\n",
        "    # seed of 10 for reproducibility.\r\n",
        "    clusterer = KMeans(n_clusters=n_clusters, random_state=10)\r\n",
        "    cluster_labels = clusterer.fit_predict(util_log)\r\n",
        "\r\n",
        "    # The silhouette_score gives the average value for all the samples.\r\n",
        "    # This gives a perspective into the density and separation of the formed\r\n",
        "    # clusters\r\n",
        "    silhouette_avg = silhouette_score(util_log, cluster_labels)\r\n",
        "    print(\"For n_clusters =\", n_clusters,\r\n",
        "          \"The average silhouette_score is :\", silhouette_avg)"
      ],
      "execution_count": null,
      "outputs": [
        {
          "output_type": "stream",
          "text": [
            "For n_clusters = 2 The average silhouette_score is : 0.62562591869075\n",
            "For n_clusters = 3 The average silhouette_score is : 0.5816227640792679\n",
            "For n_clusters = 4 The average silhouette_score is : 0.5530495657893666\n",
            "For n_clusters = 5 The average silhouette_score is : 0.5411770961417\n",
            "For n_clusters = 6 The average silhouette_score is : 0.5353016643706187\n"
          ],
          "name": "stdout"
        }
      ]
    },
    {
      "cell_type": "code",
      "metadata": {
        "id": "9ruLiU4zoZ1g"
      },
      "source": [
        ""
      ],
      "execution_count": null,
      "outputs": []
    },
    {
      "cell_type": "code",
      "metadata": {
        "id": "um5tzcUuaXU6"
      },
      "source": [
        "df_sel.to_csv('/content/drive/Shareddrives/Master In Data Science/Personal Python Script/lpetrocelli-lendingclub-loan-data-2017-q-1/customer_score.csv', index=False)"
      ],
      "execution_count": null,
      "outputs": []
    },
    {
      "cell_type": "markdown",
      "metadata": {
        "id": "2Ov9GH_eQ4sL"
      },
      "source": [
        "# Customer Segmentation"
      ]
    },
    {
      "cell_type": "code",
      "metadata": {
        "id": "EdHVPOAqPLg7"
      },
      "source": [
        "pd_score = pd.read_csv('/content/drive/Shareddrives/Master In Data Science/Personal Python Script/lpetrocelli-lendingclub-loan-data-2017-q-1/customer_score.csv')"
      ],
      "execution_count": null,
      "outputs": []
    },
    {
      "cell_type": "code",
      "metadata": {
        "colab": {
          "base_uri": "https://localhost:8080/",
          "height": 224
        },
        "id": "9nhn2wi_efRu",
        "outputId": "69ec5c52-5c81-408c-ab83-56df28dcc7ad"
      },
      "source": [
        "pd_score.head()"
      ],
      "execution_count": null,
      "outputs": [
        {
          "output_type": "execute_result",
          "data": {
            "text/html": [
              "<div>\n",
              "<style scoped>\n",
              "    .dataframe tbody tr th:only-of-type {\n",
              "        vertical-align: middle;\n",
              "    }\n",
              "\n",
              "    .dataframe tbody tr th {\n",
              "        vertical-align: top;\n",
              "    }\n",
              "\n",
              "    .dataframe thead th {\n",
              "        text-align: right;\n",
              "    }\n",
              "</style>\n",
              "<table border=\"1\" class=\"dataframe\">\n",
              "  <thead>\n",
              "    <tr style=\"text-align: right;\">\n",
              "      <th></th>\n",
              "      <th>id</th>\n",
              "      <th>annual_inc</th>\n",
              "      <th>loan_amnt</th>\n",
              "      <th>total_rec_late_fee</th>\n",
              "      <th>delinq_2yrs</th>\n",
              "      <th>inq_last_12m</th>\n",
              "      <th>int_rate</th>\n",
              "      <th>all_util</th>\n",
              "      <th>inc_log</th>\n",
              "      <th>inc_cluster</th>\n",
              "      <th>rev_score</th>\n",
              "      <th>inc_score</th>\n",
              "      <th>deling_log</th>\n",
              "      <th>deling_cluster</th>\n",
              "      <th>deling_score</th>\n",
              "      <th>loan_log</th>\n",
              "      <th>loan_cluster</th>\n",
              "      <th>util_log</th>\n",
              "      <th>util_cluster</th>\n",
              "      <th>util_score</th>\n",
              "      <th>tot_hi_cred_lim</th>\n",
              "      <th>cru</th>\n",
              "      <th>cru_log</th>\n",
              "      <th>cru_cluster</th>\n",
              "      <th>cru_score</th>\n",
              "    </tr>\n",
              "  </thead>\n",
              "  <tbody>\n",
              "    <tr>\n",
              "      <th>0</th>\n",
              "      <td>0</td>\n",
              "      <td>120000.0</td>\n",
              "      <td>3600</td>\n",
              "      <td>0.0</td>\n",
              "      <td>0</td>\n",
              "      <td>4</td>\n",
              "      <td>7.49%</td>\n",
              "      <td>39.0</td>\n",
              "      <td>11.695248</td>\n",
              "      <td>2</td>\n",
              "      <td>3.0</td>\n",
              "      <td>3.0</td>\n",
              "      <td>-2.302585</td>\n",
              "      <td>0</td>\n",
              "      <td>3.0</td>\n",
              "      <td>8.188717</td>\n",
              "      <td>3</td>\n",
              "      <td>3.666122</td>\n",
              "      <td>3</td>\n",
              "      <td>1.0</td>\n",
              "      <td>93599</td>\n",
              "      <td>0.038462</td>\n",
              "      <td>-1.977160</td>\n",
              "      <td>1</td>\n",
              "      <td>3.0</td>\n",
              "    </tr>\n",
              "    <tr>\n",
              "      <th>1</th>\n",
              "      <td>1</td>\n",
              "      <td>125000.0</td>\n",
              "      <td>15000</td>\n",
              "      <td>0.0</td>\n",
              "      <td>0</td>\n",
              "      <td>0</td>\n",
              "      <td>14.99%</td>\n",
              "      <td>69.0</td>\n",
              "      <td>11.736070</td>\n",
              "      <td>2</td>\n",
              "      <td>3.0</td>\n",
              "      <td>3.0</td>\n",
              "      <td>-2.302585</td>\n",
              "      <td>0</td>\n",
              "      <td>3.0</td>\n",
              "      <td>9.615812</td>\n",
              "      <td>0</td>\n",
              "      <td>4.235555</td>\n",
              "      <td>0</td>\n",
              "      <td>0.0</td>\n",
              "      <td>148572</td>\n",
              "      <td>0.100961</td>\n",
              "      <td>-1.604644</td>\n",
              "      <td>1</td>\n",
              "      <td>3.0</td>\n",
              "    </tr>\n",
              "    <tr>\n",
              "      <th>2</th>\n",
              "      <td>2</td>\n",
              "      <td>50000.0</td>\n",
              "      <td>8400</td>\n",
              "      <td>0.0</td>\n",
              "      <td>0</td>\n",
              "      <td>7</td>\n",
              "      <td>11.39%</td>\n",
              "      <td>65.0</td>\n",
              "      <td>10.819780</td>\n",
              "      <td>1</td>\n",
              "      <td>1.0</td>\n",
              "      <td>1.0</td>\n",
              "      <td>-2.302585</td>\n",
              "      <td>0</td>\n",
              "      <td>3.0</td>\n",
              "      <td>9.035999</td>\n",
              "      <td>1</td>\n",
              "      <td>4.175925</td>\n",
              "      <td>0</td>\n",
              "      <td>0.0</td>\n",
              "      <td>205671</td>\n",
              "      <td>0.040842</td>\n",
              "      <td>-1.960117</td>\n",
              "      <td>1</td>\n",
              "      <td>3.0</td>\n",
              "    </tr>\n",
              "    <tr>\n",
              "      <th>3</th>\n",
              "      <td>3</td>\n",
              "      <td>50000.0</td>\n",
              "      <td>4000</td>\n",
              "      <td>0.0</td>\n",
              "      <td>1</td>\n",
              "      <td>1</td>\n",
              "      <td>10.49%</td>\n",
              "      <td>56.0</td>\n",
              "      <td>10.819780</td>\n",
              "      <td>1</td>\n",
              "      <td>1.0</td>\n",
              "      <td>1.0</td>\n",
              "      <td>0.095310</td>\n",
              "      <td>1</td>\n",
              "      <td>2.0</td>\n",
              "      <td>8.294075</td>\n",
              "      <td>1</td>\n",
              "      <td>4.027136</td>\n",
              "      <td>3</td>\n",
              "      <td>1.0</td>\n",
              "      <td>152852</td>\n",
              "      <td>0.026169</td>\n",
              "      <td>-2.070132</td>\n",
              "      <td>1</td>\n",
              "      <td>3.0</td>\n",
              "    </tr>\n",
              "    <tr>\n",
              "      <th>4</th>\n",
              "      <td>4</td>\n",
              "      <td>125000.0</td>\n",
              "      <td>6000</td>\n",
              "      <td>0.0</td>\n",
              "      <td>0</td>\n",
              "      <td>1</td>\n",
              "      <td>7.24%</td>\n",
              "      <td>83.0</td>\n",
              "      <td>11.736070</td>\n",
              "      <td>2</td>\n",
              "      <td>3.0</td>\n",
              "      <td>3.0</td>\n",
              "      <td>-2.302585</td>\n",
              "      <td>0</td>\n",
              "      <td>3.0</td>\n",
              "      <td>8.699531</td>\n",
              "      <td>1</td>\n",
              "      <td>4.420045</td>\n",
              "      <td>0</td>\n",
              "      <td>0.0</td>\n",
              "      <td>72865</td>\n",
              "      <td>0.082344</td>\n",
              "      <td>-1.701860</td>\n",
              "      <td>1</td>\n",
              "      <td>3.0</td>\n",
              "    </tr>\n",
              "  </tbody>\n",
              "</table>\n",
              "</div>"
            ],
            "text/plain": [
              "   id  annual_inc  loan_amnt  ...   cru_log  cru_cluster  cru_score\n",
              "0   0    120000.0       3600  ... -1.977160            1        3.0\n",
              "1   1    125000.0      15000  ... -1.604644            1        3.0\n",
              "2   2     50000.0       8400  ... -1.960117            1        3.0\n",
              "3   3     50000.0       4000  ... -2.070132            1        3.0\n",
              "4   4    125000.0       6000  ... -1.701860            1        3.0\n",
              "\n",
              "[5 rows x 25 columns]"
            ]
          },
          "metadata": {
            "tags": []
          },
          "execution_count": 74
        }
      ]
    },
    {
      "cell_type": "code",
      "metadata": {
        "id": "tZ9mZkNZfAMh"
      },
      "source": [
        "#df_score = pd_score[['id','inc_score','deling_score','util_score']]\r\n",
        "df_score = df_sel[['id','inc_score','deling_score','cru_score']] "
      ],
      "execution_count": null,
      "outputs": []
    },
    {
      "cell_type": "code",
      "metadata": {
        "colab": {
          "base_uri": "https://localhost:8080/",
          "height": 296
        },
        "id": "fKE9HlLkfrD5",
        "outputId": "484d45c2-cbcd-4e18-8321-8346926d3777"
      },
      "source": [
        "sse = []\r\n",
        "k_rng = range(1,15)\r\n",
        "for k in k_rng:\r\n",
        "    km = KMeans(n_clusters=k)\r\n",
        "    #km.fit(history_set_concat[['close_z','volume_z', 'max_close_30_%' ,'50_ma_var','100_ma_var', '50_100_ma_var', 'previous close_var', 'previous_close_var_2', 'previous_close_var_3', 'previous_close_var_4',\r\n",
        "    #   'previous_close_var_5', 'open_var']])\r\n",
        "    km.fit(df_score[['inc_score','deling_score','cru_score']])\r\n",
        "    sse.append(km.inertia_)\r\n",
        "\r\n",
        "plt.xlabel('K')\r\n",
        "plt.ylabel('Sum of squared error')\r\n",
        "plt.plot(k_rng,sse)"
      ],
      "execution_count": null,
      "outputs": [
        {
          "output_type": "execute_result",
          "data": {
            "text/plain": [
              "[<matplotlib.lines.Line2D at 0x7feceb60c390>]"
            ]
          },
          "metadata": {
            "tags": []
          },
          "execution_count": 71
        },
        {
          "output_type": "display_data",
          "data": {
            "image/png": "[encoded data removed]",
            "text/plain": [
              "<Figure size 432x288 with 1 Axes>"
            ]
          },
          "metadata": {
            "tags": [],
            "needs_background": "light"
          }
        }
      ]
    },
    {
      "cell_type": "code",
      "metadata": {
        "colab": {
          "base_uri": "https://localhost:8080/"
        },
        "id": "ru3XItAopUf3",
        "outputId": "97a77329-eb38-4d35-e66b-62039a7da2ab"
      },
      "source": [
        "col = df_sel[['inc_score','deling_score','cru_score']] \r\n",
        "range_n_clusters = [ 5, 6, 7, 8, 9]\r\n",
        "\r\n",
        "for n_clusters in range_n_clusters:\r\n",
        "    # Initialize the clusterer with n_clusters value and a random generator\r\n",
        "    # seed of 10 for reproducibility.\r\n",
        "    clusterer = KMeans(n_clusters=n_clusters, random_state=10)\r\n",
        "    cluster_labels = clusterer.fit_predict(col)\r\n",
        "\r\n",
        "    # The silhouette_score gives the average value for all the samples.\r\n",
        "    # This gives a perspective into the density and separation of the formed\r\n",
        "    # clusters\r\n",
        "    silhouette_avg = silhouette_score(col, cluster_labels)\r\n",
        "    print(\"For n_clusters =\", n_clusters,\r\n",
        "          \"The average silhouette_score is :\", silhouette_avg)"
      ],
      "execution_count": null,
      "outputs": [
        {
          "output_type": "stream",
          "text": [
            "For n_clusters = 5 The average silhouette_score is : 0.5083765956881823\n",
            "For n_clusters = 6 The average silhouette_score is : 0.5526862289472834\n",
            "For n_clusters = 7 The average silhouette_score is : 0.6055689579149159\n",
            "For n_clusters = 8 The average silhouette_score is : 0.6739118297581435\n",
            "For n_clusters = 9 The average silhouette_score is : 0.7251121842236758\n"
          ],
          "name": "stdout"
        }
      ]
    },
    {
      "cell_type": "code",
      "metadata": {
        "colab": {
          "base_uri": "https://localhost:8080/"
        },
        "id": "IBMRlRfSgCH-",
        "outputId": "9a820ab3-3914-4a42-8eaa-16087c8383e7"
      },
      "source": [
        "km = KMeans(n_clusters=8)\r\n",
        "score_predicted = km.fit_predict(df_score[['inc_score','deling_score','cru_score']])\r\n",
        "df_score['score_cluster'] = score_predicted\r\n",
        "df_score['final_score'] = df_score['inc_score'] + df_score['deling_score'] + df_score['cru_score']"
      ],
      "execution_count": null,
      "outputs": [
        {
          "output_type": "stream",
          "text": [
            "/usr/local/lib/python3.6/dist-packages/ipykernel_launcher.py:3: SettingWithCopyWarning: \n",
            "A value is trying to be set on a copy of a slice from a DataFrame.\n",
            "Try using .loc[row_indexer,col_indexer] = value instead\n",
            "\n",
            "See the caveats in the documentation: https://pandas.pydata.org/pandas-docs/stable/user_guide/indexing.html#returning-a-view-versus-a-copy\n",
            "  This is separate from the ipykernel package so we can avoid doing imports until\n",
            "/usr/local/lib/python3.6/dist-packages/ipykernel_launcher.py:4: SettingWithCopyWarning: \n",
            "A value is trying to be set on a copy of a slice from a DataFrame.\n",
            "Try using .loc[row_indexer,col_indexer] = value instead\n",
            "\n",
            "See the caveats in the documentation: https://pandas.pydata.org/pandas-docs/stable/user_guide/indexing.html#returning-a-view-versus-a-copy\n",
            "  after removing the cwd from sys.path.\n"
          ],
          "name": "stderr"
        }
      ]
    },
    {
      "cell_type": "code",
      "metadata": {
        "colab": {
          "base_uri": "https://localhost:8080/",
          "height": 331
        },
        "id": "gRanSty2gavH",
        "outputId": "094e1c0e-49fd-45c8-ac69-da1fe904c8e1"
      },
      "source": [
        "df_score.groupby(['score_cluster'])['final_score','inc_score','deling_score','cru_score'].mean().reset_index()"
      ],
      "execution_count": null,
      "outputs": [
        {
          "output_type": "stream",
          "text": [
            "/usr/local/lib/python3.6/dist-packages/ipykernel_launcher.py:1: FutureWarning: Indexing with multiple keys (implicitly converted to a tuple of keys) will be deprecated, use a list instead.\n",
            "  \"\"\"Entry point for launching an IPython kernel.\n"
          ],
          "name": "stderr"
        },
        {
          "output_type": "execute_result",
          "data": {
            "text/html": [
              "<div>\n",
              "<style scoped>\n",
              "    .dataframe tbody tr th:only-of-type {\n",
              "        vertical-align: middle;\n",
              "    }\n",
              "\n",
              "    .dataframe tbody tr th {\n",
              "        vertical-align: top;\n",
              "    }\n",
              "\n",
              "    .dataframe thead th {\n",
              "        text-align: right;\n",
              "    }\n",
              "</style>\n",
              "<table border=\"1\" class=\"dataframe\">\n",
              "  <thead>\n",
              "    <tr style=\"text-align: right;\">\n",
              "      <th></th>\n",
              "      <th>score_cluster</th>\n",
              "      <th>final_score</th>\n",
              "      <th>inc_score</th>\n",
              "      <th>deling_score</th>\n",
              "      <th>cru_score</th>\n",
              "    </tr>\n",
              "  </thead>\n",
              "  <tbody>\n",
              "    <tr>\n",
              "      <th>0</th>\n",
              "      <td>0</td>\n",
              "      <td>7.222908</td>\n",
              "      <td>2.307476</td>\n",
              "      <td>3.000000</td>\n",
              "      <td>1.915432</td>\n",
              "    </tr>\n",
              "    <tr>\n",
              "      <th>1</th>\n",
              "      <td>1</td>\n",
              "      <td>8.000000</td>\n",
              "      <td>2.000000</td>\n",
              "      <td>3.000000</td>\n",
              "      <td>3.000000</td>\n",
              "    </tr>\n",
              "    <tr>\n",
              "      <th>2</th>\n",
              "      <td>2</td>\n",
              "      <td>6.866576</td>\n",
              "      <td>2.268412</td>\n",
              "      <td>1.598164</td>\n",
              "      <td>3.000000</td>\n",
              "    </tr>\n",
              "    <tr>\n",
              "      <th>3</th>\n",
              "      <td>3</td>\n",
              "      <td>5.427636</td>\n",
              "      <td>1.479872</td>\n",
              "      <td>2.947763</td>\n",
              "      <td>1.000000</td>\n",
              "    </tr>\n",
              "    <tr>\n",
              "      <th>4</th>\n",
              "      <td>4</td>\n",
              "      <td>5.882104</td>\n",
              "      <td>0.997793</td>\n",
              "      <td>2.885599</td>\n",
              "      <td>1.998713</td>\n",
              "    </tr>\n",
              "    <tr>\n",
              "      <th>5</th>\n",
              "      <td>5</td>\n",
              "      <td>9.000000</td>\n",
              "      <td>3.000000</td>\n",
              "      <td>3.000000</td>\n",
              "      <td>3.000000</td>\n",
              "    </tr>\n",
              "    <tr>\n",
              "      <th>6</th>\n",
              "      <td>6</td>\n",
              "      <td>6.859711</td>\n",
              "      <td>0.999091</td>\n",
              "      <td>2.860620</td>\n",
              "      <td>3.000000</td>\n",
              "    </tr>\n",
              "    <tr>\n",
              "      <th>7</th>\n",
              "      <td>7</td>\n",
              "      <td>5.414031</td>\n",
              "      <td>2.108979</td>\n",
              "      <td>1.579373</td>\n",
              "      <td>1.725678</td>\n",
              "    </tr>\n",
              "  </tbody>\n",
              "</table>\n",
              "</div>"
            ],
            "text/plain": [
              "   score_cluster  final_score  inc_score  deling_score  cru_score\n",
              "0              0     7.222908   2.307476      3.000000   1.915432\n",
              "1              1     8.000000   2.000000      3.000000   3.000000\n",
              "2              2     6.866576   2.268412      1.598164   3.000000\n",
              "3              3     5.427636   1.479872      2.947763   1.000000\n",
              "4              4     5.882104   0.997793      2.885599   1.998713\n",
              "5              5     9.000000   3.000000      3.000000   3.000000\n",
              "6              6     6.859711   0.999091      2.860620   3.000000\n",
              "7              7     5.414031   2.108979      1.579373   1.725678"
            ]
          },
          "metadata": {
            "tags": []
          },
          "execution_count": 77
        }
      ]
    },
    {
      "cell_type": "code",
      "metadata": {
        "colab": {
          "base_uri": "https://localhost:8080/"
        },
        "id": "-l0YpDG5gz0j",
        "outputId": "e332d8e5-91ac-4994-dbbf-f5351fcfb0d5"
      },
      "source": [
        "df_score.groupby(['score_cluster'])['id'].count()"
      ],
      "execution_count": null,
      "outputs": [
        {
          "output_type": "execute_result",
          "data": {
            "text/plain": [
              "score_cluster\n",
              "0    18151\n",
              "1    18915\n",
              "2    10238\n",
              "3    11601\n",
              "4    10874\n",
              "5    10428\n",
              "6     9901\n",
              "7     6671\n",
              "Name: id, dtype: int64"
            ]
          },
          "metadata": {
            "tags": []
          },
          "execution_count": 78
        }
      ]
    },
    {
      "cell_type": "code",
      "metadata": {
        "colab": {
          "base_uri": "https://localhost:8080/",
          "height": 204
        },
        "id": "gNRqHJd5igZE",
        "outputId": "fc764fa8-e4b0-4363-96af-79af275aec73"
      },
      "source": [
        "df_score.head()"
      ],
      "execution_count": null,
      "outputs": [
        {
          "output_type": "execute_result",
          "data": {
            "text/html": [
              "<div>\n",
              "<style scoped>\n",
              "    .dataframe tbody tr th:only-of-type {\n",
              "        vertical-align: middle;\n",
              "    }\n",
              "\n",
              "    .dataframe tbody tr th {\n",
              "        vertical-align: top;\n",
              "    }\n",
              "\n",
              "    .dataframe thead th {\n",
              "        text-align: right;\n",
              "    }\n",
              "</style>\n",
              "<table border=\"1\" class=\"dataframe\">\n",
              "  <thead>\n",
              "    <tr style=\"text-align: right;\">\n",
              "      <th></th>\n",
              "      <th>id</th>\n",
              "      <th>inc_score</th>\n",
              "      <th>deling_score</th>\n",
              "      <th>cru_score</th>\n",
              "      <th>score_cluster</th>\n",
              "      <th>final_score</th>\n",
              "    </tr>\n",
              "  </thead>\n",
              "  <tbody>\n",
              "    <tr>\n",
              "      <th>0</th>\n",
              "      <td>0</td>\n",
              "      <td>3.0</td>\n",
              "      <td>3.0</td>\n",
              "      <td>3.0</td>\n",
              "      <td>5</td>\n",
              "      <td>9.0</td>\n",
              "    </tr>\n",
              "    <tr>\n",
              "      <th>1</th>\n",
              "      <td>1</td>\n",
              "      <td>3.0</td>\n",
              "      <td>3.0</td>\n",
              "      <td>3.0</td>\n",
              "      <td>5</td>\n",
              "      <td>9.0</td>\n",
              "    </tr>\n",
              "    <tr>\n",
              "      <th>2</th>\n",
              "      <td>2</td>\n",
              "      <td>1.0</td>\n",
              "      <td>3.0</td>\n",
              "      <td>3.0</td>\n",
              "      <td>6</td>\n",
              "      <td>7.0</td>\n",
              "    </tr>\n",
              "    <tr>\n",
              "      <th>3</th>\n",
              "      <td>3</td>\n",
              "      <td>1.0</td>\n",
              "      <td>2.0</td>\n",
              "      <td>3.0</td>\n",
              "      <td>6</td>\n",
              "      <td>6.0</td>\n",
              "    </tr>\n",
              "    <tr>\n",
              "      <th>4</th>\n",
              "      <td>4</td>\n",
              "      <td>3.0</td>\n",
              "      <td>3.0</td>\n",
              "      <td>3.0</td>\n",
              "      <td>5</td>\n",
              "      <td>9.0</td>\n",
              "    </tr>\n",
              "  </tbody>\n",
              "</table>\n",
              "</div>"
            ],
            "text/plain": [
              "   id  inc_score  deling_score  cru_score  score_cluster  final_score\n",
              "0   0        3.0           3.0        3.0              5          9.0\n",
              "1   1        3.0           3.0        3.0              5          9.0\n",
              "2   2        1.0           3.0        3.0              6          7.0\n",
              "3   3        1.0           2.0        3.0              6          6.0\n",
              "4   4        3.0           3.0        3.0              5          9.0"
            ]
          },
          "metadata": {
            "tags": []
          },
          "execution_count": 79
        }
      ]
    },
    {
      "cell_type": "code",
      "metadata": {
        "id": "E4lZiapWi5Gq"
      },
      "source": [
        "df_score.to_csv('/content/drive/Shareddrives/Master In Data Science/Personal Python Script/lpetrocelli-lendingclub-loan-data-2017-q-1/customer_segment.csv', index=False)"
      ],
      "execution_count": null,
      "outputs": []
    },
    {
      "cell_type": "markdown",
      "metadata": {
        "id": "cKcOCV5t4s3J"
      },
      "source": [
        "## Classification"
      ]
    },
    {
      "cell_type": "code",
      "metadata": {
        "id": "wmW3DjxZjDRX"
      },
      "source": [
        "df_score = pd.read_csv('/content/drive/Shareddrives/Master In Data Science/Personal Python Script/lpetrocelli-lendingclub-loan-data-2017-q-1/customer_segment.csv')\r\n",
        "df_class = pd.merge(df_score, pd_score, how=\"left\", on=[\"id\"])"
      ],
      "execution_count": null,
      "outputs": []
    },
    {
      "cell_type": "code",
      "metadata": {
        "id": "x2RxEYMc_rsx"
      },
      "source": [
        "dfx = df_class[['annual_inc','delinq_2yrs','cru']]\r\n",
        "dfy = df_class['score_cluster']  "
      ],
      "execution_count": null,
      "outputs": []
    },
    {
      "cell_type": "code",
      "metadata": {
        "id": "2-iSxeo4AErB"
      },
      "source": [
        "from sklearn.model_selection import train_test_split\r\n",
        "X_train, X_test, y_train, y_test = train_test_split(dfx, dfy, test_size=0.30, random_state=0)"
      ],
      "execution_count": null,
      "outputs": []
    },
    {
      "cell_type": "code",
      "metadata": {
        "id": "n2IzrNCSAIO5"
      },
      "source": [
        "from sklearn.model_selection import GridSearchCV\r\n",
        "from sklearn.model_selection import RandomizedSearchCV\r\n",
        "from sklearn.ensemble import RandomForestRegressor\r\n",
        "from sklearn.ensemble import RandomForestClassifier\r\n",
        "\r\n",
        "param_grid = {\r\n",
        "    'bootstrap': [True],\r\n",
        "    'max_depth': [80, 90, 100, 110],\r\n",
        "    'max_features': [2, 3],\r\n",
        "    'min_samples_leaf': [3, 4, 5],\r\n",
        "    'min_samples_split': [8, 10, 12],\r\n",
        "    'n_estimators': [100, 200, 300, 1000]\r\n",
        "}\r\n",
        "# Create a based model\r\n",
        "rf = RandomForestClassifier()\r\n",
        "# rf = RandomForestRegressor()\r\n",
        "# Instantiate the grid search model\r\n",
        "grid_search__rf = GridSearchCV(estimator = rf, param_grid = param_grid, \r\n",
        "                          cv = 3, n_jobs = -1, verbose = 2)"
      ],
      "execution_count": null,
      "outputs": []
    },
    {
      "cell_type": "code",
      "metadata": {
        "id": "D37znwdFCtsB"
      },
      "source": [
        "rf = RandomForestClassifier().fit(X_train, y_train)\r\n",
        "#grid_search__rf.fit(X_train, y_train)"
      ],
      "execution_count": null,
      "outputs": []
    },
    {
      "cell_type": "code",
      "metadata": {
        "id": "PZ7qoZhVx3PS"
      },
      "source": [
        ""
      ],
      "execution_count": null,
      "outputs": []
    },
    {
      "cell_type": "code",
      "metadata": {
        "id": "Qcah7yiiC0DB"
      },
      "source": [
        ""
      ],
      "execution_count": null,
      "outputs": []
    },
    {
      "cell_type": "code",
      "metadata": {
        "colab": {
          "base_uri": "https://localhost:8080/"
        },
        "id": "cb-Bp6Cht917",
        "outputId": "dac75b86-7a35-4482-fdac-d423bf983071"
      },
      "source": [
        "from sklearn.metrics import confusion_matrix\r\n",
        "x_pred = rf.predict(X_train)\r\n",
        "#x_pred = grid_search__rf.predict(X_train)\r\n",
        "cfm = confusion_matrix(y_train.tolist(), x_pred )\r\n",
        "print(cfm)"
      ],
      "execution_count": null,
      "outputs": [
        {
          "output_type": "stream",
          "text": [
            "[[12760     0     0     0     0     0     0     0]\n",
            " [    0 13278     0     0     0     0     0     0]\n",
            " [    0     0  7252     0     0     0     0     0]\n",
            " [    0     0     0  8092     0     0     0     0]\n",
            " [    0     0     0     0  7519     0     0     0]\n",
            " [    0     0     0     0     0  7230     0     0]\n",
            " [    0     0     0     0     0     0  6944     0]\n",
            " [    0     0     0     0     0     0     0  4670]]\n"
          ],
          "name": "stdout"
        }
      ]
    },
    {
      "cell_type": "code",
      "metadata": {
        "colab": {
          "base_uri": "https://localhost:8080/"
        },
        "id": "k7JC-8fCuhj5",
        "outputId": "7c52eb4e-8a61-4258-ef47-ee7ea2b2ea1a"
      },
      "source": [
        "y_pred = rf.predict(X_test)\r\n",
        "#y_pred = grid_search__rf.predict(X_test)\r\n",
        "cfm = confusion_matrix(y_test.tolist(), y_pred )\r\n",
        "print(cfm)"
      ],
      "execution_count": null,
      "outputs": [
        {
          "output_type": "stream",
          "text": [
            "[[5390    0    0    0    1    0    0    0]\n",
            " [   0 5636    0    0    0    0    1    0]\n",
            " [   0    0 2986    0    0    0    0    0]\n",
            " [   0    0    0 3509    0    0    0    0]\n",
            " [   0    0    0    0 3355    0    0    0]\n",
            " [   0    0    0    0    0 3198    0    0]\n",
            " [   0    0    1    0    0    0 2956    0]\n",
            " [   0    0    0    0    0    0    0 2001]]\n"
          ],
          "name": "stdout"
        }
      ]
    },
    {
      "cell_type": "code",
      "metadata": {
        "colab": {
          "base_uri": "https://localhost:8080/"
        },
        "id": "H5VF17ksuuYo",
        "outputId": "725fe122-4bd4-43c8-dfaa-cf8cde377fb3"
      },
      "source": [
        "from sklearn.metrics import classification_report\r\n",
        "print(classification_report(y_test, y_pred))"
      ],
      "execution_count": null,
      "outputs": [
        {
          "output_type": "stream",
          "text": [
            "              precision    recall  f1-score   support\n",
            "\n",
            "           0       1.00      1.00      1.00      5391\n",
            "           1       1.00      1.00      1.00      5637\n",
            "           2       1.00      1.00      1.00      2986\n",
            "           3       1.00      1.00      1.00      3509\n",
            "           4       1.00      1.00      1.00      3355\n",
            "           5       1.00      1.00      1.00      3198\n",
            "           6       1.00      1.00      1.00      2957\n",
            "           7       1.00      1.00      1.00      2001\n",
            "\n",
            "    accuracy                           1.00     29034\n",
            "   macro avg       1.00      1.00      1.00     29034\n",
            "weighted avg       1.00      1.00      1.00     29034\n",
            "\n"
          ],
          "name": "stdout"
        }
      ]
    },
    {
      "cell_type": "code",
      "metadata": {
        "id": "XgOjSx0DuyW_",
        "colab": {
          "base_uri": "https://localhost:8080/",
          "height": 1000
        },
        "outputId": "656faa95-6126-4432-81e7-923ed1d331f8"
      },
      "source": [
        "X_test['score_cluster'] = y_test\r\n",
        "X_test['pred_cluster'] =  y_pred\r\n",
        "X_test.head(25)"
      ],
      "execution_count": null,
      "outputs": [
        {
          "output_type": "stream",
          "text": [
            "/usr/local/lib/python3.6/dist-packages/ipykernel_launcher.py:1: SettingWithCopyWarning: \n",
            "A value is trying to be set on a copy of a slice from a DataFrame.\n",
            "Try using .loc[row_indexer,col_indexer] = value instead\n",
            "\n",
            "See the caveats in the documentation: https://pandas.pydata.org/pandas-docs/stable/user_guide/indexing.html#returning-a-view-versus-a-copy\n",
            "  \"\"\"Entry point for launching an IPython kernel.\n",
            "/usr/local/lib/python3.6/dist-packages/ipykernel_launcher.py:2: SettingWithCopyWarning: \n",
            "A value is trying to be set on a copy of a slice from a DataFrame.\n",
            "Try using .loc[row_indexer,col_indexer] = value instead\n",
            "\n",
            "See the caveats in the documentation: https://pandas.pydata.org/pandas-docs/stable/user_guide/indexing.html#returning-a-view-versus-a-copy\n",
            "  \n"
          ],
          "name": "stderr"
        },
        {
          "output_type": "execute_result",
          "data": {
            "text/html": [
              "<div>\n",
              "<style scoped>\n",
              "    .dataframe tbody tr th:only-of-type {\n",
              "        vertical-align: middle;\n",
              "    }\n",
              "\n",
              "    .dataframe tbody tr th {\n",
              "        vertical-align: top;\n",
              "    }\n",
              "\n",
              "    .dataframe thead th {\n",
              "        text-align: right;\n",
              "    }\n",
              "</style>\n",
              "<table border=\"1\" class=\"dataframe\">\n",
              "  <thead>\n",
              "    <tr style=\"text-align: right;\">\n",
              "      <th></th>\n",
              "      <th>annual_inc</th>\n",
              "      <th>delinq_2yrs</th>\n",
              "      <th>cru</th>\n",
              "      <th>score_cluster</th>\n",
              "      <th>pred_cluster</th>\n",
              "    </tr>\n",
              "  </thead>\n",
              "  <tbody>\n",
              "    <tr>\n",
              "      <th>94619</th>\n",
              "      <td>48000.0</td>\n",
              "      <td>0</td>\n",
              "      <td>0.174531</td>\n",
              "      <td>4</td>\n",
              "      <td>4</td>\n",
              "    </tr>\n",
              "    <tr>\n",
              "      <th>51450</th>\n",
              "      <td>75000.0</td>\n",
              "      <td>1</td>\n",
              "      <td>0.059958</td>\n",
              "      <td>2</td>\n",
              "      <td>2</td>\n",
              "    </tr>\n",
              "    <tr>\n",
              "      <th>89242</th>\n",
              "      <td>100000.0</td>\n",
              "      <td>1</td>\n",
              "      <td>0.074013</td>\n",
              "      <td>2</td>\n",
              "      <td>2</td>\n",
              "    </tr>\n",
              "    <tr>\n",
              "      <th>90175</th>\n",
              "      <td>75000.0</td>\n",
              "      <td>0</td>\n",
              "      <td>0.334320</td>\n",
              "      <td>3</td>\n",
              "      <td>3</td>\n",
              "    </tr>\n",
              "    <tr>\n",
              "      <th>7655</th>\n",
              "      <td>85000.0</td>\n",
              "      <td>0</td>\n",
              "      <td>0.024872</td>\n",
              "      <td>1</td>\n",
              "      <td>1</td>\n",
              "    </tr>\n",
              "    <tr>\n",
              "      <th>19768</th>\n",
              "      <td>62000.0</td>\n",
              "      <td>0</td>\n",
              "      <td>0.008698</td>\n",
              "      <td>1</td>\n",
              "      <td>1</td>\n",
              "    </tr>\n",
              "    <tr>\n",
              "      <th>70279</th>\n",
              "      <td>56000.0</td>\n",
              "      <td>0</td>\n",
              "      <td>0.044506</td>\n",
              "      <td>1</td>\n",
              "      <td>1</td>\n",
              "    </tr>\n",
              "    <tr>\n",
              "      <th>41761</th>\n",
              "      <td>150000.0</td>\n",
              "      <td>0</td>\n",
              "      <td>0.054776</td>\n",
              "      <td>5</td>\n",
              "      <td>5</td>\n",
              "    </tr>\n",
              "    <tr>\n",
              "      <th>87328</th>\n",
              "      <td>35000.0</td>\n",
              "      <td>0</td>\n",
              "      <td>0.087637</td>\n",
              "      <td>6</td>\n",
              "      <td>6</td>\n",
              "    </tr>\n",
              "    <tr>\n",
              "      <th>69633</th>\n",
              "      <td>26000.0</td>\n",
              "      <td>0</td>\n",
              "      <td>0.273876</td>\n",
              "      <td>4</td>\n",
              "      <td>4</td>\n",
              "    </tr>\n",
              "    <tr>\n",
              "      <th>29492</th>\n",
              "      <td>60000.0</td>\n",
              "      <td>0</td>\n",
              "      <td>0.501567</td>\n",
              "      <td>3</td>\n",
              "      <td>3</td>\n",
              "    </tr>\n",
              "    <tr>\n",
              "      <th>41596</th>\n",
              "      <td>75000.0</td>\n",
              "      <td>0</td>\n",
              "      <td>0.077807</td>\n",
              "      <td>1</td>\n",
              "      <td>1</td>\n",
              "    </tr>\n",
              "    <tr>\n",
              "      <th>62552</th>\n",
              "      <td>25000.0</td>\n",
              "      <td>0</td>\n",
              "      <td>0.081081</td>\n",
              "      <td>6</td>\n",
              "      <td>6</td>\n",
              "    </tr>\n",
              "    <tr>\n",
              "      <th>82922</th>\n",
              "      <td>95000.0</td>\n",
              "      <td>0</td>\n",
              "      <td>0.318110</td>\n",
              "      <td>3</td>\n",
              "      <td>3</td>\n",
              "    </tr>\n",
              "    <tr>\n",
              "      <th>3596</th>\n",
              "      <td>105000.0</td>\n",
              "      <td>1</td>\n",
              "      <td>0.054432</td>\n",
              "      <td>2</td>\n",
              "      <td>2</td>\n",
              "    </tr>\n",
              "    <tr>\n",
              "      <th>26853</th>\n",
              "      <td>185000.0</td>\n",
              "      <td>1</td>\n",
              "      <td>0.024815</td>\n",
              "      <td>2</td>\n",
              "      <td>2</td>\n",
              "    </tr>\n",
              "    <tr>\n",
              "      <th>94394</th>\n",
              "      <td>20000.0</td>\n",
              "      <td>0</td>\n",
              "      <td>0.162338</td>\n",
              "      <td>4</td>\n",
              "      <td>4</td>\n",
              "    </tr>\n",
              "    <tr>\n",
              "      <th>53689</th>\n",
              "      <td>49000.0</td>\n",
              "      <td>0</td>\n",
              "      <td>0.059431</td>\n",
              "      <td>6</td>\n",
              "      <td>6</td>\n",
              "    </tr>\n",
              "    <tr>\n",
              "      <th>49697</th>\n",
              "      <td>69000.0</td>\n",
              "      <td>1</td>\n",
              "      <td>0.060786</td>\n",
              "      <td>2</td>\n",
              "      <td>2</td>\n",
              "    </tr>\n",
              "    <tr>\n",
              "      <th>63024</th>\n",
              "      <td>70000.0</td>\n",
              "      <td>0</td>\n",
              "      <td>0.100482</td>\n",
              "      <td>1</td>\n",
              "      <td>1</td>\n",
              "    </tr>\n",
              "    <tr>\n",
              "      <th>43304</th>\n",
              "      <td>40000.0</td>\n",
              "      <td>0</td>\n",
              "      <td>0.128304</td>\n",
              "      <td>4</td>\n",
              "      <td>4</td>\n",
              "    </tr>\n",
              "    <tr>\n",
              "      <th>85077</th>\n",
              "      <td>150000.0</td>\n",
              "      <td>0</td>\n",
              "      <td>0.054422</td>\n",
              "      <td>5</td>\n",
              "      <td>5</td>\n",
              "    </tr>\n",
              "    <tr>\n",
              "      <th>56074</th>\n",
              "      <td>102000.0</td>\n",
              "      <td>0</td>\n",
              "      <td>0.190989</td>\n",
              "      <td>0</td>\n",
              "      <td>0</td>\n",
              "    </tr>\n",
              "    <tr>\n",
              "      <th>67163</th>\n",
              "      <td>63500.0</td>\n",
              "      <td>0</td>\n",
              "      <td>0.439349</td>\n",
              "      <td>3</td>\n",
              "      <td>3</td>\n",
              "    </tr>\n",
              "    <tr>\n",
              "      <th>70199</th>\n",
              "      <td>47600.0</td>\n",
              "      <td>0</td>\n",
              "      <td>0.100664</td>\n",
              "      <td>6</td>\n",
              "      <td>6</td>\n",
              "    </tr>\n",
              "  </tbody>\n",
              "</table>\n",
              "</div>"
            ],
            "text/plain": [
              "       annual_inc  delinq_2yrs       cru  score_cluster  pred_cluster\n",
              "94619     48000.0            0  0.174531              4             4\n",
              "51450     75000.0            1  0.059958              2             2\n",
              "89242    100000.0            1  0.074013              2             2\n",
              "90175     75000.0            0  0.334320              3             3\n",
              "7655      85000.0            0  0.024872              1             1\n",
              "19768     62000.0            0  0.008698              1             1\n",
              "70279     56000.0            0  0.044506              1             1\n",
              "41761    150000.0            0  0.054776              5             5\n",
              "87328     35000.0            0  0.087637              6             6\n",
              "69633     26000.0            0  0.273876              4             4\n",
              "29492     60000.0            0  0.501567              3             3\n",
              "41596     75000.0            0  0.077807              1             1\n",
              "62552     25000.0            0  0.081081              6             6\n",
              "82922     95000.0            0  0.318110              3             3\n",
              "3596     105000.0            1  0.054432              2             2\n",
              "26853    185000.0            1  0.024815              2             2\n",
              "94394     20000.0            0  0.162338              4             4\n",
              "53689     49000.0            0  0.059431              6             6\n",
              "49697     69000.0            1  0.060786              2             2\n",
              "63024     70000.0            0  0.100482              1             1\n",
              "43304     40000.0            0  0.128304              4             4\n",
              "85077    150000.0            0  0.054422              5             5\n",
              "56074    102000.0            0  0.190989              0             0\n",
              "67163     63500.0            0  0.439349              3             3\n",
              "70199     47600.0            0  0.100664              6             6"
            ]
          },
          "metadata": {
            "tags": []
          },
          "execution_count": 89
        }
      ]
    },
    {
      "cell_type": "code",
      "metadata": {
        "colab": {
          "base_uri": "https://localhost:8080/",
          "height": 167
        },
        "id": "XHq5lq-PHuwh",
        "outputId": "15b85fca-cfea-416d-f7a2-91c7bdcf3d0c"
      },
      "source": [
        "X_test.loc[( X_test['score_cluster'] == 3 ) | ( X_test['score_cluster'] == 5 ) ].head(15)"
      ],
      "execution_count": null,
      "outputs": [
        {
          "output_type": "error",
          "ename": "NameError",
          "evalue": "ignored",
          "traceback": [
            "\u001b[0;31m---------------------------------------------------------------------------\u001b[0m",
            "\u001b[0;31mNameError\u001b[0m                                 Traceback (most recent call last)",
            "\u001b[0;32m<ipython-input-1-15f36264353f>\u001b[0m in \u001b[0;36m<module>\u001b[0;34m()\u001b[0m\n\u001b[0;32m----> 1\u001b[0;31m \u001b[0mX_test\u001b[0m\u001b[0;34m.\u001b[0m\u001b[0mloc\u001b[0m\u001b[0;34m[\u001b[0m\u001b[0;34m(\u001b[0m \u001b[0mX_test\u001b[0m\u001b[0;34m[\u001b[0m\u001b[0;34m'score_cluster'\u001b[0m\u001b[0;34m]\u001b[0m \u001b[0;34m==\u001b[0m \u001b[0;36m3\u001b[0m \u001b[0;34m)\u001b[0m \u001b[0;34m|\u001b[0m \u001b[0;34m(\u001b[0m \u001b[0mX_test\u001b[0m\u001b[0;34m[\u001b[0m\u001b[0;34m'score_cluster'\u001b[0m\u001b[0;34m]\u001b[0m \u001b[0;34m==\u001b[0m \u001b[0;36m5\u001b[0m \u001b[0;34m)\u001b[0m \u001b[0;34m]\u001b[0m\u001b[0;34m.\u001b[0m\u001b[0mhead\u001b[0m\u001b[0;34m(\u001b[0m\u001b[0;36m15\u001b[0m\u001b[0;34m)\u001b[0m\u001b[0;34m\u001b[0m\u001b[0;34m\u001b[0m\u001b[0m\n\u001b[0m",
            "\u001b[0;31mNameError\u001b[0m: name 'X_test' is not defined"
          ]
        }
      ]
    },
    {
      "cell_type": "code",
      "metadata": {
        "id": "KvhRKWtu--bv"
      },
      "source": [
        "import pickle\r\n",
        "filename = '/content/drive/Shareddrives/Master In Data Science/Personal Python Script/lpetrocelli-lendingclub-loan-data-2017-q-1/customer_segmentation.sav'\r\n",
        "pickle.dump(rf, open(filename, 'wb'))"
      ],
      "execution_count": null,
      "outputs": []
    },
    {
      "cell_type": "markdown",
      "metadata": {
        "id": "YrWU_s4k3r8A"
      },
      "source": [
        ""
      ]
    },
    {
      "cell_type": "code",
      "metadata": {
        "id": "8gfiky1Urf0K"
      },
      "source": [
        ""
      ],
      "execution_count": null,
      "outputs": []
    },
    {
      "cell_type": "code",
      "metadata": {
        "id": "-0DCt0l7BLae"
      },
      "source": [
        ""
      ],
      "execution_count": null,
      "outputs": []
    },
    {
      "cell_type": "code",
      "metadata": {
        "id": "-VLKlRKtIS5K"
      },
      "source": [
        ""
      ],
      "execution_count": null,
      "outputs": []
    },
    {
      "cell_type": "code",
      "metadata": {
        "id": "9iBxNX6OI3hp"
      },
      "source": [
        ""
      ],
      "execution_count": null,
      "outputs": []
    }
  ]
}